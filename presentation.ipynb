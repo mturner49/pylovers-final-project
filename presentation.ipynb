{
 "cells": [
  {
   "cell_type": "markdown",
   "metadata": {},
   "source": [
    "- --- ---- ---- ---- ---- --- --- Sally\n",
    "# PYLOVERS’S FINAL PROJECT\n",
    "- Project Description\n",
    "- Process Analysis\n",
    "- --- ---- ---- ---- ---- --- --- Matt\n",
    "# Loading and Inspecting Data\n",
    "- Loading\n",
    "- Data Inspecting (plots) (Features and Target)\n",
    "- Outliers Analysis\n",
    "- --- ---- ---- ---- ---- --- --- Shiva\n",
    "# Pre-processing Dataset\n",
    "- Convert categoricals to numericals(ordered/non-ordered)\n",
    "- Missing Data Imputation\n",
    "- --- ---- ---- ---- ---- --- --- Crystal\n",
    "# Feature Engineering\n",
    "- Adding new features\n",
    "- Feature Scaling(Standardlization)\n",
    "- --- ---- ---- ---- ---- --- --- Vida\n",
    "# Exploratory Data Analysis (EDA)\n",
    "- Correlation \n",
    "- Variance Inflation Factor"
   ]
  },
  {
   "cell_type": "markdown",
   "metadata": {},
   "source": [
    "# Machine Learning Models\n",
    "\n",
    "- --- ---- ---- ---- ---- --- --- Sally\n",
    "- Splitting (train dataset) for Validation\n",
    "- Decision Tree\n",
    "- Linear Regression\n",
    "- --- ---- ---- ---- ---- --- --- Matt\n",
    "- XGBoost Regression\n",
    "- ElasticNet Regression\n",
    "- --- ---- ---- ---- ---- --- --- Shiva\n",
    "- KNeighbors\n",
    "- Ridge Regression\n",
    "- --- ---- ---- ---- ---- --- --- Crystal\n",
    "- Kernel Ridge Regression\n",
    "- Gradient Boost Regression\n",
    "- --- ---- ---- ---- ---- --- --- Vida\n",
    "- Random Forest\n",
    "- SVR\n",
    "\n",
    "## Models' Comparison and PyLovers_Model\n",
    "(a simple table to compare r2_score/R Squared + MAPE of models)"
   ]
  }
 ],
 "metadata": {
  "kernelspec": {
   "display_name": "Python 3",
   "language": "python",
   "name": "python3"
  },
  "language_info": {
   "codemirror_mode": {
    "name": "ipython",
    "version": 3
   },
   "file_extension": ".py",
   "mimetype": "text/x-python",
   "name": "python",
   "nbconvert_exporter": "python",
   "pygments_lexer": "ipython3",
   "version": "3.8.3"
  }
 },
 "nbformat": 4,
 "nbformat_minor": 4
}
