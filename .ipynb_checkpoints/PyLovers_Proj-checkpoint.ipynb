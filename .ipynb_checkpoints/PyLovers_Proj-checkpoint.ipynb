{
 "cells": [
  {
   "cell_type": "code",
   "execution_count": 1,
   "metadata": {},
   "outputs": [],
   "source": [
    "import pandas as pd\n",
    "import numpy as np\n",
    "import matplotlib.pyplot as plt\n",
    "import warnings\n",
    "warnings.filterwarnings('ignore')\n",
    "\n",
    "#Preprocessing - Training and testing split\n",
    "from sklearn import preprocessing\n",
    "from sklearn.preprocessing import LabelEncoder\n",
    "from sklearn.impute import SimpleImputer\n",
    "from sklearn.preprocessing import StandardScaler\n",
    "from sklearn.model_selection import train_test_split\n",
    "\n",
    "#Exploratory Data Analysis\n",
    "from statsmodels.stats.outliers_influence import variance_inflation_factor\n",
    "from statsmodels.tools.tools import add_constant\n",
    "\n",
    "#Model\n",
    "from sklearn.linear_model import LinearRegression, LogisticRegression\n",
    "from sklearn.svm import SVR\n",
    "from sklearn.tree import DecisionTreeRegressor\n",
    "from sklearn.ensemble import RandomForestRegressor,  GradientBoostingRegressor\n",
    "from sklearn.linear_model import LassoCV, RidgeCV, ElasticNetCV\n",
    "from sklearn.neighbors import  KNeighborsRegressor\n",
    "\n",
    "import xgboost as xg\n",
    "from sklearn.kernel_ridge import KernelRidge\n",
    "\n",
    "#Evaluation: \n",
    "from sklearn.metrics import mean_squared_error, r2_score, explained_variance_score"
   ]
  },
  {
   "cell_type": "code",
   "execution_count": 2,
   "metadata": {},
   "outputs": [],
   "source": [
    "def print_full(x):\n",
    "    pd.set_option('display.max_rows', len(x))\n",
    "    print(x)\n",
    "    pd.reset_option('display.max_rows')"
   ]
  },
  {
   "cell_type": "markdown",
   "metadata": {},
   "source": [
    "## Loading Training/Testing Data:"
   ]
  },
  {
   "cell_type": "code",
   "execution_count": 3,
   "metadata": {},
   "outputs": [
    {
     "data": {
      "text/html": [
       "<div>\n",
       "<style scoped>\n",
       "    .dataframe tbody tr th:only-of-type {\n",
       "        vertical-align: middle;\n",
       "    }\n",
       "\n",
       "    .dataframe tbody tr th {\n",
       "        vertical-align: top;\n",
       "    }\n",
       "\n",
       "    .dataframe thead th {\n",
       "        text-align: right;\n",
       "    }\n",
       "</style>\n",
       "<table border=\"1\" class=\"dataframe\">\n",
       "  <thead>\n",
       "    <tr style=\"text-align: right;\">\n",
       "      <th></th>\n",
       "      <th>MSSubClass</th>\n",
       "      <th>MSZoning</th>\n",
       "      <th>LotFrontage</th>\n",
       "      <th>LotArea</th>\n",
       "      <th>Street</th>\n",
       "      <th>Alley</th>\n",
       "      <th>LotShape</th>\n",
       "      <th>LandContour</th>\n",
       "      <th>Utilities</th>\n",
       "      <th>LotConfig</th>\n",
       "      <th>...</th>\n",
       "      <th>PoolArea</th>\n",
       "      <th>PoolQC</th>\n",
       "      <th>Fence</th>\n",
       "      <th>MiscFeature</th>\n",
       "      <th>MiscVal</th>\n",
       "      <th>MoSold</th>\n",
       "      <th>YrSold</th>\n",
       "      <th>SaleType</th>\n",
       "      <th>SaleCondition</th>\n",
       "      <th>SalePrice</th>\n",
       "    </tr>\n",
       "    <tr>\n",
       "      <th>Id</th>\n",
       "      <th></th>\n",
       "      <th></th>\n",
       "      <th></th>\n",
       "      <th></th>\n",
       "      <th></th>\n",
       "      <th></th>\n",
       "      <th></th>\n",
       "      <th></th>\n",
       "      <th></th>\n",
       "      <th></th>\n",
       "      <th></th>\n",
       "      <th></th>\n",
       "      <th></th>\n",
       "      <th></th>\n",
       "      <th></th>\n",
       "      <th></th>\n",
       "      <th></th>\n",
       "      <th></th>\n",
       "      <th></th>\n",
       "      <th></th>\n",
       "      <th></th>\n",
       "    </tr>\n",
       "  </thead>\n",
       "  <tbody>\n",
       "    <tr>\n",
       "      <th>1</th>\n",
       "      <td>60</td>\n",
       "      <td>RL</td>\n",
       "      <td>65.0</td>\n",
       "      <td>8450</td>\n",
       "      <td>Pave</td>\n",
       "      <td>NaN</td>\n",
       "      <td>Reg</td>\n",
       "      <td>Lvl</td>\n",
       "      <td>AllPub</td>\n",
       "      <td>Inside</td>\n",
       "      <td>...</td>\n",
       "      <td>0</td>\n",
       "      <td>NaN</td>\n",
       "      <td>NaN</td>\n",
       "      <td>NaN</td>\n",
       "      <td>0</td>\n",
       "      <td>2</td>\n",
       "      <td>2008</td>\n",
       "      <td>WD</td>\n",
       "      <td>Normal</td>\n",
       "      <td>208500</td>\n",
       "    </tr>\n",
       "    <tr>\n",
       "      <th>2</th>\n",
       "      <td>20</td>\n",
       "      <td>RL</td>\n",
       "      <td>80.0</td>\n",
       "      <td>9600</td>\n",
       "      <td>Pave</td>\n",
       "      <td>NaN</td>\n",
       "      <td>Reg</td>\n",
       "      <td>Lvl</td>\n",
       "      <td>AllPub</td>\n",
       "      <td>FR2</td>\n",
       "      <td>...</td>\n",
       "      <td>0</td>\n",
       "      <td>NaN</td>\n",
       "      <td>NaN</td>\n",
       "      <td>NaN</td>\n",
       "      <td>0</td>\n",
       "      <td>5</td>\n",
       "      <td>2007</td>\n",
       "      <td>WD</td>\n",
       "      <td>Normal</td>\n",
       "      <td>181500</td>\n",
       "    </tr>\n",
       "    <tr>\n",
       "      <th>3</th>\n",
       "      <td>60</td>\n",
       "      <td>RL</td>\n",
       "      <td>68.0</td>\n",
       "      <td>11250</td>\n",
       "      <td>Pave</td>\n",
       "      <td>NaN</td>\n",
       "      <td>IR1</td>\n",
       "      <td>Lvl</td>\n",
       "      <td>AllPub</td>\n",
       "      <td>Inside</td>\n",
       "      <td>...</td>\n",
       "      <td>0</td>\n",
       "      <td>NaN</td>\n",
       "      <td>NaN</td>\n",
       "      <td>NaN</td>\n",
       "      <td>0</td>\n",
       "      <td>9</td>\n",
       "      <td>2008</td>\n",
       "      <td>WD</td>\n",
       "      <td>Normal</td>\n",
       "      <td>223500</td>\n",
       "    </tr>\n",
       "    <tr>\n",
       "      <th>4</th>\n",
       "      <td>70</td>\n",
       "      <td>RL</td>\n",
       "      <td>60.0</td>\n",
       "      <td>9550</td>\n",
       "      <td>Pave</td>\n",
       "      <td>NaN</td>\n",
       "      <td>IR1</td>\n",
       "      <td>Lvl</td>\n",
       "      <td>AllPub</td>\n",
       "      <td>Corner</td>\n",
       "      <td>...</td>\n",
       "      <td>0</td>\n",
       "      <td>NaN</td>\n",
       "      <td>NaN</td>\n",
       "      <td>NaN</td>\n",
       "      <td>0</td>\n",
       "      <td>2</td>\n",
       "      <td>2006</td>\n",
       "      <td>WD</td>\n",
       "      <td>Abnorml</td>\n",
       "      <td>140000</td>\n",
       "    </tr>\n",
       "    <tr>\n",
       "      <th>5</th>\n",
       "      <td>60</td>\n",
       "      <td>RL</td>\n",
       "      <td>84.0</td>\n",
       "      <td>14260</td>\n",
       "      <td>Pave</td>\n",
       "      <td>NaN</td>\n",
       "      <td>IR1</td>\n",
       "      <td>Lvl</td>\n",
       "      <td>AllPub</td>\n",
       "      <td>FR2</td>\n",
       "      <td>...</td>\n",
       "      <td>0</td>\n",
       "      <td>NaN</td>\n",
       "      <td>NaN</td>\n",
       "      <td>NaN</td>\n",
       "      <td>0</td>\n",
       "      <td>12</td>\n",
       "      <td>2008</td>\n",
       "      <td>WD</td>\n",
       "      <td>Normal</td>\n",
       "      <td>250000</td>\n",
       "    </tr>\n",
       "  </tbody>\n",
       "</table>\n",
       "<p>5 rows × 80 columns</p>\n",
       "</div>"
      ],
      "text/plain": [
       "    MSSubClass MSZoning  LotFrontage  LotArea Street Alley LotShape  \\\n",
       "Id                                                                    \n",
       "1           60       RL         65.0     8450   Pave   NaN      Reg   \n",
       "2           20       RL         80.0     9600   Pave   NaN      Reg   \n",
       "3           60       RL         68.0    11250   Pave   NaN      IR1   \n",
       "4           70       RL         60.0     9550   Pave   NaN      IR1   \n",
       "5           60       RL         84.0    14260   Pave   NaN      IR1   \n",
       "\n",
       "   LandContour Utilities LotConfig  ... PoolArea PoolQC Fence MiscFeature  \\\n",
       "Id                                  ...                                     \n",
       "1          Lvl    AllPub    Inside  ...        0    NaN   NaN         NaN   \n",
       "2          Lvl    AllPub       FR2  ...        0    NaN   NaN         NaN   \n",
       "3          Lvl    AllPub    Inside  ...        0    NaN   NaN         NaN   \n",
       "4          Lvl    AllPub    Corner  ...        0    NaN   NaN         NaN   \n",
       "5          Lvl    AllPub       FR2  ...        0    NaN   NaN         NaN   \n",
       "\n",
       "   MiscVal MoSold  YrSold  SaleType  SaleCondition  SalePrice  \n",
       "Id                                                             \n",
       "1        0      2    2008        WD         Normal     208500  \n",
       "2        0      5    2007        WD         Normal     181500  \n",
       "3        0      9    2008        WD         Normal     223500  \n",
       "4        0      2    2006        WD        Abnorml     140000  \n",
       "5        0     12    2008        WD         Normal     250000  \n",
       "\n",
       "[5 rows x 80 columns]"
      ]
     },
     "execution_count": 3,
     "metadata": {},
     "output_type": "execute_result"
    }
   ],
   "source": [
    "train_url = 'https://raw.githubusercontent.com/mturner49/pylovers-final-project/dev/data/train.csv'\n",
    "test_url = 'https://raw.githubusercontent.com/mturner49/pylovers-final-project/dev/data/test.csv'\n",
    "\n",
    "train_df = pd.read_csv(train_url, low_memory=False, error_bad_lines=False, index_col='Id')\n",
    "test_df = pd.read_csv(test_url, low_memory=False, error_bad_lines=False, index_col='Id')\n",
    "train_df.head()"
   ]
  },
  {
   "cell_type": "code",
   "execution_count": 4,
   "metadata": {},
   "outputs": [],
   "source": [
    "# This is for checking datatypes\n",
    "# train_df.info()\n",
    "# test_df.info()"
   ]
  },
  {
   "cell_type": "markdown",
   "metadata": {},
   "source": [
    "## Data Preprocessing:"
   ]
  },
  {
   "cell_type": "markdown",
   "metadata": {},
   "source": [
    "## Missing Data Imputation"
   ]
  },
  {
   "cell_type": "code",
   "execution_count": 5,
   "metadata": {},
   "outputs": [],
   "source": [
    "def missing_cnt_percent(df):\n",
    "    # create df that consists of columns and the number of missing values for each \n",
    "    data = df.isnull().sum().sort_values(ascending=False)\n",
    "    missing_df = pd.DataFrame(data=data, columns=['missing_cnt'])\n",
    "\n",
    "    # add column and fill it with the percentage of those missing values\n",
    "    missing_df['percent_missing'] = missing_df.missing_cnt.apply(lambda x : '{:.2f}'.format(x/df.shape[0] * 100)) \n",
    "    missing_df = missing_df[missing_df.missing_cnt > 0]\n",
    "    print(missing_df)"
   ]
  },
  {
   "cell_type": "code",
   "execution_count": 6,
   "metadata": {},
   "outputs": [
    {
     "name": "stdout",
     "output_type": "stream",
     "text": [
      "              missing_cnt percent_missing\n",
      "PoolQC               1453           99.52\n",
      "MiscFeature          1406           96.30\n",
      "Alley                1369           93.77\n",
      "Fence                1179           80.75\n",
      "FireplaceQu           690           47.26\n",
      "LotFrontage           259           17.74\n",
      "GarageType             81            5.55\n",
      "GarageCond             81            5.55\n",
      "GarageFinish           81            5.55\n",
      "GarageQual             81            5.55\n",
      "GarageYrBlt            81            5.55\n",
      "BsmtFinType2           38            2.60\n",
      "BsmtExposure           38            2.60\n",
      "BsmtQual               37            2.53\n",
      "BsmtCond               37            2.53\n",
      "BsmtFinType1           37            2.53\n",
      "MasVnrArea              8            0.55\n",
      "MasVnrType              8            0.55\n",
      "Electrical              1            0.07\n"
     ]
    }
   ],
   "source": [
    "missing_cnt_percent(train_df)"
   ]
  },
  {
   "cell_type": "code",
   "execution_count": 7,
   "metadata": {},
   "outputs": [],
   "source": [
    "# These columns has NA value that is different from null(NaN)!\n",
    "train_df.update(train_df[['PoolQC']].fillna('NA'))\n",
    "train_df.update(train_df[['MiscFeature']].fillna('NA'))\n",
    "train_df.update(train_df[['Alley']].fillna('NA'))\n",
    "train_df.update(train_df[['Fence']].fillna('NA'))\n",
    "train_df.update(train_df[['FireplaceQu']].fillna('NA'))"
   ]
  },
  {
   "cell_type": "code",
   "execution_count": 8,
   "metadata": {},
   "outputs": [],
   "source": [
    "# All 'GarageType','GarageYrBlt','GarageFinish','GarageCars','GarageQual','GarageCond' columns has 1379 not null values!\n",
    "# So, I tested the theory that exactly same rows has null for these columns!\n",
    "# All 81 do not have Garage! So, we can put zero/'NA' instead!\n",
    "# train_df.loc[:,['GarageCars','GarageArea','GarageType','GarageYrBlt','GarageFinish','GarageCars','GarageQual','GarageCond']][train_df['GarageType'].isnull()]\n",
    "\n",
    "# All 81 do not have Garage! So, we can put zero/'NA' instead!\n",
    "train_df.update(train_df[['GarageYrBlt','GarageCars']].fillna(0))\n",
    "train_df.update(train_df[['GarageType','GarageFinish','GarageQual','GarageCond']].fillna('NA'))"
   ]
  },
  {
   "cell_type": "code",
   "execution_count": 9,
   "metadata": {},
   "outputs": [],
   "source": [
    "# Same for Basement: 'BsmtFinType2','BsmtExposure','BsmtQual','BsmtCond','BsmtFinType1'\n",
    "# train_df.loc[:,['TotalBsmtSF','BsmtUnfSF','BsmtFinType2','BsmtExposure','BsmtQual','BsmtCond','BsmtFinType1']][train_df['BsmtCond'].isnull()]\n",
    "\n",
    "# All 37 do not have Garage! So, we can put 'NA' instead!\n",
    "train_df.update(train_df[['BsmtQual','BsmtCond','BsmtFinType1']].fillna('NA'))\n",
    "# Same for Basement: 'BsmtFinType2','BsmtExposure'\n",
    "# train_df.loc[:,['TotalBsmtSF','BsmtUnfSF','BsmtFinType2','BsmtExposure','BsmtQual','BsmtCond','BsmtFinType1']][train_df['BsmtExposure'].isnull()]\n",
    "train_df.at[949,'BsmtExposure']='No'\n",
    "# train_df.loc[:,['TotalBsmtSF','BsmtUnfSF','BsmtFinSF2','BsmtFinType2','BsmtExposure','BsmtQual','BsmtCond','BsmtFinType1']][train_df['BsmtFinType2'].isnull()]\n",
    "# I'm going with 'Average Living Quarters'\n",
    "train_df.at[333,'BsmtFinType2']='ALQ'\n",
    "train_df.update(train_df[['BsmtFinType2','BsmtExposure']].fillna('NA'))\n",
    "train_df.update(train_df[['Electrical']].fillna('SBrkr'))\n",
    "#I'm not professional but I think there is no Masonry veneer type for the Vinyl and Cement!\n",
    "train_df.at[530,'MasVnrType']='Stone'\n",
    "\n",
    "# train_df['Set_of_Numbers'] = train_df['Set_of_Numbers'].fillna(0)\n",
    "train_df.update(train_df[['MasVnrArea']].fillna(0))\n",
    "train_df.update(train_df[['MasVnrType']].fillna('None'))\n",
    "train_df['LotFrontage'] = train_df['LotFrontage'].fillna((train_df['LotFrontage'].mean()))"
   ]
  },
  {
   "cell_type": "code",
   "execution_count": 10,
   "metadata": {},
   "outputs": [
    {
     "name": "stdout",
     "output_type": "stream",
     "text": [
      "Empty DataFrame\n",
      "Columns: [missing_cnt, percent_missing]\n",
      "Index: []\n"
     ]
    }
   ],
   "source": [
    "missing_cnt_percent(train_df)"
   ]
  },
  {
   "cell_type": "markdown",
   "metadata": {},
   "source": [
    "## Convert categorical string to numeric"
   ]
  },
  {
   "cell_type": "markdown",
   "metadata": {},
   "source": [
    "Categorical Variable Analysis for ordered categories"
   ]
  },
  {
   "cell_type": "code",
   "execution_count": 11,
   "metadata": {},
   "outputs": [],
   "source": [
    "# LotShape\n",
    "quality_ratings1 = {\n",
    "    \"IR3\" : 1,\n",
    "\t\"IR2\" : 2,\n",
    "\t\"IR1\" : 3,\n",
    "\t\"Reg\" : 4\n",
    "}\n",
    "train_df[\"LotShape_Num\"] = train_df.LotShape.map(quality_ratings1)\n",
    "test_df[\"LotShape_Num\"] = test_df.LotShape.map(quality_ratings1)"
   ]
  },
  {
   "cell_type": "code",
   "execution_count": 12,
   "metadata": {},
   "outputs": [],
   "source": [
    "\t# LandContour\n",
    "quality_ratings2 = {\n",
    "\t\"Low\" : 1,\n",
    "\t\"HLS\" : 2,\n",
    "\t\"Bnk\" : 3,\n",
    "\t\"Lvl\" : 4\n",
    "}\n",
    "train_df[\"LandContour_Num\"] = train_df.LandContour.map(quality_ratings2)\n",
    "test_df[\"LandContour_Num\"] = test_df.LandContour.map(quality_ratings2)"
   ]
  },
  {
   "cell_type": "code",
   "execution_count": 13,
   "metadata": {},
   "outputs": [],
   "source": [
    "\t# LandSlope\n",
    "quality_ratings3 = {\n",
    "\t\"Sev\" : 1,\n",
    "\t\"Mod\" : 2,\n",
    "\t\"Gtl\" : 3\n",
    "}\n",
    "train_df[\"LandSlope_Num\"] = train_df.LandSlope.map(quality_ratings3)\n",
    "test_df[\"LandSlope_Num\"] = test_df.LandSlope.map(quality_ratings3)"
   ]
  },
  {
   "cell_type": "code",
   "execution_count": 14,
   "metadata": {},
   "outputs": [],
   "source": [
    "\t# ExterQual, ExterCond, HeatingQC, KitchenQual\n",
    "quality_ratings4 = {\n",
    "\t\"Po\" : 1,\n",
    "\t\"Fa\" : 2,\n",
    "\t\"TA\" : 3,\n",
    "\t\"Gd\" : 4,\n",
    "\t\"Ex\" : 5\n",
    "}\n",
    "train_df[\"ExterQual_Num\"] = train_df.ExterQual.map(quality_ratings4)\n",
    "train_df[\"ExterCond_Num\"] = train_df.ExterCond.map(quality_ratings4)\n",
    "train_df[\"HeatingQC_Num\"] = train_df.HeatingQC.map(quality_ratings4)\n",
    "train_df[\"KitchenQual_Num\"] = train_df.KitchenQual.map(quality_ratings4)\n",
    "\n",
    "test_df[\"ExterQual_Num\"] = test_df.ExterQual.map(quality_ratings4)\n",
    "test_df[\"ExterCond_Num\"] = test_df.ExterCond.map(quality_ratings4)\n",
    "test_df[\"HeatingQC_Num\"] = test_df.HeatingQC.map(quality_ratings4)\n",
    "test_df[\"KitchenQual_Num\"] = test_df.KitchenQual.map(quality_ratings4)"
   ]
  },
  {
   "cell_type": "code",
   "execution_count": 15,
   "metadata": {},
   "outputs": [],
   "source": [
    "\t# BsmtQual, BsmtCond, GarageQual, GarageCond, FireplaceQu\n",
    "quality_ratings5 = {\n",
    "\t\"NA\" : 1,\n",
    "\t\"Po\" : 2,\n",
    "\t\"Fa\" : 3,\n",
    "\t\"TA\" : 4,\n",
    "\t\"Gd\" : 5,\n",
    "\t\"Ex\" : 6\n",
    "}\n",
    "train_df[\"BsmtQual_Num\"] = train_df.BsmtQual.map(quality_ratings5)\n",
    "train_df[\"BsmtCond_Num\"] = train_df.BsmtCond.map(quality_ratings5)\n",
    "train_df[\"GarageQual_Num\"] = train_df.GarageQual.map(quality_ratings5)\n",
    "train_df[\"GarageCond_Num\"] = train_df.GarageCond.map(quality_ratings5)\n",
    "train_df[\"FireplaceQu_Num\"] = train_df.FireplaceQu.map(quality_ratings5)\n",
    "\n",
    "test_df[\"BsmtQual_Num\"] = test_df.BsmtQual.map(quality_ratings5)\n",
    "test_df[\"BsmtCond_Num\"] = test_df.BsmtCond.map(quality_ratings5)\n",
    "test_df[\"GarageQual_Num\"] = test_df.GarageQual.map(quality_ratings5)\n",
    "test_df[\"GarageCond_Num\"] = test_df.GarageCond.map(quality_ratings5)\n",
    "test_df[\"FireplaceQu_Num\"] = test_df.FireplaceQu.map(quality_ratings5)"
   ]
  },
  {
   "cell_type": "code",
   "execution_count": 16,
   "metadata": {},
   "outputs": [],
   "source": [
    "\t# BsmtExposure\n",
    "quality_ratings7 = {\n",
    "\t\"NA\" : 1,\n",
    "\t\"No\" : 2,\n",
    "\t\"Mn\" : 3,\n",
    "\t\"Av\" : 4,\n",
    "\t\"Gd\" : 5\n",
    "}\n",
    "train_df[\"BsmtExposure_Num\"] = train_df.BsmtExposure.map(quality_ratings7)\n",
    "test_df[\"BsmtExposure_Num\"] = test_df.BsmtExposure.map(quality_ratings7)"
   ]
  },
  {
   "cell_type": "code",
   "execution_count": 17,
   "metadata": {},
   "outputs": [],
   "source": [
    "\t# BsmtFinType1, BsmtFinType2\n",
    "quality_ratings8 = {\n",
    "\t\"NA\" : 1,\n",
    "\t\"Unf\" : 2,\n",
    "\t\"LwQ\" : 3,\n",
    "\t\"Rec\" : 4,\n",
    "\t\"BLQ\" : 5,\n",
    "\t\"ALQ\" : 6,\n",
    "\t\"GLQ\" : 7\n",
    "}\n",
    "train_df[\"BsmtFinType1_Num\"] = train_df.BsmtFinType1.map(quality_ratings8)\n",
    "train_df[\"BsmtFinType2_Num\"] = train_df.BsmtFinType2.map(quality_ratings8)\n",
    "\n",
    "test_df[\"BsmtFinType1_Num\"] = test_df.BsmtFinType1.map(quality_ratings8)\n",
    "test_df[\"BsmtFinType2_Num\"] = test_df.BsmtFinType2.map(quality_ratings8)"
   ]
  },
  {
   "cell_type": "code",
   "execution_count": 18,
   "metadata": {},
   "outputs": [],
   "source": [
    "\t# Functional\n",
    "quality_ratings9 = {\n",
    "\t\"Sal\" : 1,\n",
    "\t\"Sev\" : 2,\n",
    "\t\"Maj2\" : 3,\n",
    "\t\"Maj1\" : 4,\n",
    "\t\"Mod\" : 5,\n",
    "\t\"Min2\" : 6,\n",
    "\t\"Min1\" : 7,\n",
    "\t\"Typ\" : 8\n",
    "}\n",
    "train_df[\"Functional_Num\"] = train_df.Functional.map(quality_ratings9)\n",
    "\n",
    "test_df[\"Functional_Num\"] = test_df.Functional.map(quality_ratings9)"
   ]
  },
  {
   "cell_type": "code",
   "execution_count": 19,
   "metadata": {},
   "outputs": [],
   "source": [
    "\t# GarageFinish\n",
    "quality_ratings10 = {\n",
    "\t\"NA\" : 1,\n",
    "\t\"Unf\" : 2,\n",
    "\t\"RFn\" : 3,\n",
    "\t\"Fin\" : 4\n",
    "}\n",
    "train_df[\"GarageFinish_Num\"] = train_df.GarageFinish.map(quality_ratings10)\n",
    "\n",
    "test_df[\"GarageFinish_Num\"] = test_df.GarageFinish.map(quality_ratings10)"
   ]
  },
  {
   "cell_type": "code",
   "execution_count": 20,
   "metadata": {},
   "outputs": [],
   "source": [
    "\t# CentralAir\n",
    "quality_ratings11 = {\n",
    "\t\"N\" : 1,\n",
    "\t\"Y\" : 2\n",
    "}\n",
    "train_df[\"CentralAir_Num\"] = train_df.CentralAir.map(quality_ratings11)\n",
    "\n",
    "test_df[\"CentralAir_Num\"] = test_df.CentralAir.map(quality_ratings11)"
   ]
  },
  {
   "cell_type": "code",
   "execution_count": 21,
   "metadata": {},
   "outputs": [],
   "source": [
    "\t# PavedDrive\n",
    "quality_ratings12 = {\n",
    "\t\"N\" : 1,\n",
    "\t\"P\" : 2,\n",
    "\t\"Y\" : 3\n",
    "}\n",
    "train_df[\"PavedDrive_Num\"] = train_df.PavedDrive.map(quality_ratings12)\n",
    "\n",
    "test_df[\"PavedDrive_Num\"] = test_df.PavedDrive.map(quality_ratings12)"
   ]
  },
  {
   "cell_type": "code",
   "execution_count": 22,
   "metadata": {},
   "outputs": [],
   "source": [
    "\t# PoolQC\n",
    "quality_ratings6 = {\n",
    "\t\"NA\" : 1,\n",
    "\t\"Fa\" : 2,\n",
    "\t\"TA\" : 3,\n",
    "\t\"Gd\" : 4,\n",
    "\t\"Ex\" : 5\n",
    "}\n",
    "train_df[\"PoolQC_Num\"] = train_df.PoolQC.map(quality_ratings6)\n",
    "test_df[\"PoolQC_Num\"] = test_df.PoolQC.map(quality_ratings6)"
   ]
  },
  {
   "cell_type": "code",
   "execution_count": 23,
   "metadata": {},
   "outputs": [],
   "source": [
    "\t# MSSubClass\n",
    "quality_ratings7 = {\n",
    "    20:\"St46nNAS\", \n",
    "    30:\"St45nOl\", \n",
    "    40:\"StwFinAAA\", \n",
    "    45:\"HalfStUnfinAAA\", \n",
    "    50:\"HalfStFinAA\",\n",
    "    60:\"St46nN\", \n",
    "    70:\"St45nOl\", \n",
    "    75:\"HalfStAA\", \n",
    "    80:\"SplorML\", \n",
    "    85:\"SplFoy\", \n",
    "    90:\"DupASnA\", \n",
    "    120:\"StPud46nN\", \n",
    "    150:\"HalfStPudAA\", \n",
    "    160:\"StPud46nNN\", \n",
    "    180:\"PudML\", 190:\"FamConv\"\n",
    "}\n",
    "train_df[\"MSSubClass_Cat\"] = train_df.MSSubClass.map(quality_ratings7)\n",
    "test_df[\"MSSubClass_Cat\"] = test_df.MSSubClass.map(quality_ratings7)"
   ]
  },
  {
   "cell_type": "code",
   "execution_count": 24,
   "metadata": {},
   "outputs": [],
   "source": [
    "# drop the columns where we replaced with numbers\n",
    "drop_cols = ['ExterQual', 'BsmtQual', 'HeatingQC', 'KitchenQual','GarageQual','LotShape','LandContour','LandSlope','ExterCond','BsmtCond','GarageCond','FireplaceQu','BsmtExposure','BsmtFinType1','BsmtFinType2','Functional','GarageFinish','CentralAir','PavedDrive','PoolQC','MSSubClass']\n",
    "\n",
    "for col in drop_cols:\n",
    "    train_df.drop(col, axis=1, inplace=True)\n",
    "    test_df.drop(col, axis=1, inplace=True)"
   ]
  },
  {
   "cell_type": "markdown",
   "metadata": {},
   "source": [
    "## Exploratory Data Analysis (EDA)"
   ]
  },
  {
   "cell_type": "markdown",
   "metadata": {},
   "source": [
    "- Correlation "
   ]
  },
  {
   "cell_type": "code",
   "execution_count": 25,
   "metadata": {},
   "outputs": [
    {
     "name": "stdout",
     "output_type": "stream",
     "text": [
      "SalePrice           1.0000\n",
      "OverallQual         0.7910\n",
      "GrLivArea           0.7086\n",
      "ExterQual_Num       0.6826\n",
      "KitchenQual_Num     0.6596\n",
      "GarageCars          0.6404\n",
      "GarageArea          0.6234\n",
      "TotalBsmtSF         0.6136\n",
      "1stFlrSF            0.6059\n",
      "BsmtQual_Num        0.5852\n",
      "FullBath            0.5607\n",
      "GarageFinish_Num    0.5492\n",
      "TotRmsAbvGrd        0.5337\n",
      "YearBuilt           0.5229\n",
      "FireplaceQu_Num     0.5204\n",
      "YearRemodAdd        0.5071\n",
      "MasVnrArea          0.4726\n",
      "Fireplaces          0.4669\n",
      "HeatingQC_Num       0.4276\n",
      "BsmtFinSF1          0.3864\n",
      "BsmtExposure_Num    0.3750\n",
      "LotFrontage         0.3349\n",
      "WoodDeckSF          0.3244\n",
      "2ndFlrSF            0.3193\n",
      "OpenPorchSF         0.3159\n",
      "BsmtFinType1_Num    0.3049\n",
      "HalfBath            0.2841\n",
      "GarageQual_Num      0.2738\n",
      "LotArea             0.2638\n",
      "GarageCond_Num      0.2632\n",
      "GarageYrBlt         0.2614\n",
      "CentralAir_Num      0.2513\n",
      "PavedDrive_Num      0.2314\n",
      "BsmtFullBath        0.2271\n",
      "BsmtUnfSF           0.2145\n",
      "BsmtCond_Num        0.2126\n",
      "BedroomAbvGr        0.1682\n",
      "PoolQC_Num          0.1155\n",
      "ScreenPorch         0.1114\n",
      "Functional_Num      0.1076\n",
      "PoolArea            0.0924\n",
      "MoSold              0.0464\n",
      "3SsnPorch           0.0446\n",
      "ExterCond_Num       0.0189\n",
      "BsmtFinType2_Num   -0.0003\n",
      "BsmtFinSF2         -0.0114\n",
      "BsmtHalfBath       -0.0168\n",
      "MiscVal            -0.0212\n",
      "LowQualFinSF       -0.0256\n",
      "YrSold             -0.0289\n",
      "LandSlope_Num      -0.0512\n",
      "LandContour_Num    -0.0730\n",
      "OverallCond        -0.0779\n",
      "EnclosedPorch      -0.1286\n",
      "KitchenAbvGr       -0.1359\n",
      "LotShape_Num       -0.2678\n",
      "Name: SalePrice, dtype: float64\n"
     ]
    }
   ],
   "source": [
    "corr_matrix = train_df.corr()\n",
    "corr_matrix['SalePrice'] = round(corr_matrix['SalePrice'],4)\n",
    "print_full(corr_matrix['SalePrice'].sort_values(ascending=False))"
   ]
  },
  {
   "cell_type": "code",
   "execution_count": 26,
   "metadata": {},
   "outputs": [
    {
     "data": {
      "text/plain": [
       "HalfBath            0.2841\n",
       "GarageQual_Num      0.2738\n",
       "LotArea             0.2638\n",
       "GarageCond_Num      0.2632\n",
       "GarageYrBlt         0.2614\n",
       "CentralAir_Num      0.2513\n",
       "PavedDrive_Num      0.2314\n",
       "BsmtFullBath        0.2271\n",
       "BsmtUnfSF           0.2145\n",
       "BsmtCond_Num        0.2126\n",
       "BedroomAbvGr        0.1682\n",
       "PoolQC_Num          0.1155\n",
       "ScreenPorch         0.1114\n",
       "Functional_Num      0.1076\n",
       "PoolArea            0.0924\n",
       "MoSold              0.0464\n",
       "3SsnPorch           0.0446\n",
       "ExterCond_Num       0.0189\n",
       "BsmtFinType2_Num   -0.0003\n",
       "BsmtFinSF2         -0.0114\n",
       "BsmtHalfBath       -0.0168\n",
       "MiscVal            -0.0212\n",
       "LowQualFinSF       -0.0256\n",
       "YrSold             -0.0289\n",
       "LandSlope_Num      -0.0512\n",
       "LandContour_Num    -0.0730\n",
       "OverallCond        -0.0779\n",
       "EnclosedPorch      -0.1286\n",
       "KitchenAbvGr       -0.1359\n",
       "LotShape_Num       -0.2678\n",
       "Name: SalePrice, dtype: float64"
      ]
     },
     "execution_count": 26,
     "metadata": {},
     "output_type": "execute_result"
    }
   ],
   "source": [
    "corr_matrix[(corr_matrix.SalePrice<0.3) & (corr_matrix.SalePrice>-0.3)].SalePrice.sort_values(ascending=False)"
   ]
  },
  {
   "cell_type": "code",
   "execution_count": 27,
   "metadata": {},
   "outputs": [],
   "source": [
    "train_df['TotSF_Factor'] = train_df['1stFlrSF']+train_df['2ndFlrSF']+train_df['TotalBsmtSF']\n",
    "train_df[\"AddedArea_Factor\"] = train_df[\"GrLivArea\"] + train_df[\"GarageArea\"]\n",
    "train_df[\"TotBath_Factor\"] = train_df[\"FullBath\"] + (train_df[\"HalfBath\"]*0.5)\n",
    "train_df['Overall_Factor'] = train_df['OverallQual'] * train_df['OverallCond'] * train_df['YearBuilt']\n",
    "train_df['Yr_Factor'] = train_df['YrSold'] - np.maximum(train_df['YearBuilt'],train_df['YearRemodAdd'])\n",
    "train_df['Pool_Factor'] = train_df['PoolArea'].apply(lambda x: 1 if x > 0 else 0)\n",
    "train_df['OpenOR3SsnPorch_Factor'] = train_df[\"OpenPorchSF\"].apply(lambda x: 1 if x > 0 else 0) + train_df[\"3SsnPorch\"].apply(lambda x: 1 if x > 0 else 0) + train_df[\"WoodDeckSF\"].apply(lambda x: 1 if x > 0 else 0)\n",
    "train_df['Kitchen2Flr_Ratio'] = train_df['KitchenAbvGr'] / (train_df['1stFlrSF'].apply(lambda x: 1 if x > 0 else 0) + train_df['2ndFlrSF'].apply(lambda x: 1 if x > 0 else 0) + train_df['TotalBsmtSF'].apply(lambda x: 1 if x > 0 else 0))\n"
   ]
  },
  {
   "cell_type": "code",
   "execution_count": 28,
   "metadata": {},
   "outputs": [
    {
     "name": "stdout",
     "output_type": "stream",
     "text": [
      "                  missing_cnt percent_missing\n",
      "PoolQC_Num               1456           99.79\n",
      "MiscFeature              1408           96.50\n",
      "Alley                    1352           92.67\n",
      "Fence                    1169           80.12\n",
      "FireplaceQu_Num           730           50.03\n",
      "LotFrontage               227           15.56\n",
      "GarageQual_Num             78            5.35\n",
      "GarageCond_Num             78            5.35\n",
      "GarageFinish_Num           78            5.35\n",
      "GarageYrBlt                78            5.35\n",
      "GarageType                 76            5.21\n",
      "BsmtCond_Num               45            3.08\n",
      "BsmtQual_Num               44            3.02\n",
      "BsmtExposure_Num           44            3.02\n",
      "BsmtFinType1_Num           42            2.88\n",
      "BsmtFinType2_Num           42            2.88\n",
      "MasVnrType                 16            1.10\n",
      "MasVnrArea                 15            1.03\n",
      "MSZoning                    4            0.27\n",
      "BsmtHalfBath                2            0.14\n",
      "Utilities                   2            0.14\n",
      "BsmtFullBath                2            0.14\n",
      "Functional_Num              2            0.14\n",
      "BsmtFinSF1                  1            0.07\n",
      "SaleType                    1            0.07\n",
      "BsmtFinSF2                  1            0.07\n",
      "GarageArea                  1            0.07\n",
      "BsmtUnfSF                   1            0.07\n",
      "KitchenQual_Num             1            0.07\n",
      "Exterior2nd                 1            0.07\n",
      "TotalBsmtSF                 1            0.07\n",
      "GarageCars                  1            0.07\n",
      "Exterior1st                 1            0.07\n"
     ]
    }
   ],
   "source": [
    "missing_cnt_percent(test_df)"
   ]
  },
  {
   "cell_type": "code",
   "execution_count": 29,
   "metadata": {},
   "outputs": [],
   "source": [
    "test_df.update(test_df[['GarageArea','GarageCars','TotalBsmtSF','BsmtFinSF1','MasVnrArea']].fillna(0))\n",
    "test_df.update(test_df[['BsmtQual_Num','BsmtFinType2_Num','GarageFinish_Num','FireplaceQu_Num','BsmtFinType1_Num']].fillna(1))\n",
    "test_df.update(test_df[['BsmtExposure_Num']].fillna(2))\n",
    "test_df.update(test_df[['KitchenQual_Num']].fillna(3))\n",
    "test_df['LotFrontage'] = test_df['LotFrontage'].fillna((test_df['LotFrontage'].mean()))"
   ]
  },
  {
   "cell_type": "code",
   "execution_count": 30,
   "metadata": {},
   "outputs": [],
   "source": [
    "test_df['TotSF_Factor'] = test_df['1stFlrSF']+test_df['2ndFlrSF']+test_df['TotalBsmtSF']\n",
    "test_df[\"AddedArea_Factor\"] = test_df[\"GrLivArea\"] + test_df[\"GarageArea\"]\n",
    "test_df[\"TotBath_Factor\"] = test_df[\"FullBath\"] + (test_df[\"HalfBath\"]*0.5)\n",
    "test_df['Overall_Factor'] = test_df['OverallQual'] * test_df['OverallCond'] * test_df['YearBuilt']\n",
    "test_df['Yr_Factor'] = test_df['YrSold'] - np.maximum(test_df['YearBuilt'],test_df['YearRemodAdd'])\n",
    "test_df['Pool_Factor'] = test_df['PoolArea'].apply(lambda x: 1 if x > 0 else 0)\n",
    "test_df['OpenOR3SsnPorch_Factor'] = test_df[\"OpenPorchSF\"].apply(lambda x: 1 if x > 0 else 0) + test_df[\"3SsnPorch\"].apply(lambda x: 1 if x > 0 else 0) + test_df[\"WoodDeckSF\"].apply(lambda x: 1 if x > 0 else 0)\n",
    "test_df['Kitchen2Flr_Ratio'] = test_df['KitchenAbvGr'] / (test_df['1stFlrSF'].apply(lambda x: 1 if x > 0 else 0) + test_df['2ndFlrSF'].apply(lambda x: 1 if x > 0 else 0) + test_df['TotalBsmtSF'].apply(lambda x: 1 if x > 0 else 0))"
   ]
  },
  {
   "cell_type": "code",
   "execution_count": 31,
   "metadata": {},
   "outputs": [],
   "source": [
    "drop_cols = ['MoSold','3SsnPorch','ExterCond_Num','BsmtFinType2_Num','BsmtFinSF2','BsmtHalfBath','MiscVal','LowQualFinSF',\n",
    "             'YrSold','Street','Utilities','LandSlope_Num','PoolQC_Num','MiscFeature']\n",
    "# drop_cols = ['HalfBath', 'GarageQual_Num','LotArea','GarageCond_Num', 'GarageYrBlt', 'CentralAir_Num',\n",
    "#              'PavedDrive_Num','BsmtFullBath','BsmtUnfSF','BsmtCond_Num','BedroomAbvGr','ScreenPorch',\n",
    "#              'Street','Utilities','Functional_Num','Pool_Factor','PoolArea','LandContour_Num','OverallCond','EnclosedPorch',\n",
    "#              'MiscFeature','KitchenAbvGr','Kitchen2Flr_Ratio','LotShape_Num','PoolQC_Num']\n",
    "for col in drop_cols:\n",
    "    train_df.drop(col, axis=1, inplace=True)\n",
    "    test_df.drop(col, axis=1, inplace=True)"
   ]
  },
  {
   "cell_type": "code",
   "execution_count": 32,
   "metadata": {},
   "outputs": [
    {
     "name": "stdout",
     "output_type": "stream",
     "text": [
      "SalePrice                 1.0000\n",
      "OverallQual               0.7910\n",
      "TotSF_Factor              0.7823\n",
      "AddedArea_Factor          0.7736\n",
      "GrLivArea                 0.7086\n",
      "ExterQual_Num             0.6826\n",
      "KitchenQual_Num           0.6596\n",
      "GarageCars                0.6404\n",
      "GarageArea                0.6234\n",
      "TotalBsmtSF               0.6136\n",
      "1stFlrSF                  0.6059\n",
      "TotBath_Factor            0.5980\n",
      "Overall_Factor            0.5938\n",
      "BsmtQual_Num              0.5852\n",
      "FullBath                  0.5607\n",
      "GarageFinish_Num          0.5492\n",
      "TotRmsAbvGrd              0.5337\n",
      "YearBuilt                 0.5229\n",
      "FireplaceQu_Num           0.5204\n",
      "YearRemodAdd              0.5071\n",
      "MasVnrArea                0.4726\n",
      "OpenOR3SsnPorch_Factor    0.4707\n",
      "Fireplaces                0.4669\n",
      "HeatingQC_Num             0.4276\n",
      "BsmtFinSF1                0.3864\n",
      "BsmtExposure_Num          0.3750\n",
      "LotFrontage               0.3349\n",
      "WoodDeckSF                0.3244\n",
      "2ndFlrSF                  0.3193\n",
      "OpenPorchSF               0.3159\n",
      "BsmtFinType1_Num          0.3049\n",
      "HalfBath                  0.2841\n",
      "GarageQual_Num            0.2738\n",
      "LotArea                   0.2638\n",
      "GarageCond_Num            0.2632\n",
      "GarageYrBlt               0.2614\n",
      "CentralAir_Num            0.2513\n",
      "PavedDrive_Num            0.2314\n",
      "BsmtFullBath              0.2271\n",
      "BsmtUnfSF                 0.2145\n",
      "BsmtCond_Num              0.2126\n",
      "BedroomAbvGr              0.1682\n",
      "ScreenPorch               0.1114\n",
      "Functional_Num            0.1076\n",
      "Pool_Factor               0.0937\n",
      "PoolArea                  0.0924\n",
      "LandContour_Num          -0.0730\n",
      "OverallCond              -0.0779\n",
      "EnclosedPorch            -0.1286\n",
      "KitchenAbvGr             -0.1359\n",
      "Kitchen2Flr_Ratio        -0.2042\n",
      "LotShape_Num             -0.2678\n",
      "Yr_Factor                -0.5091\n",
      "Name: SalePrice, dtype: float64\n"
     ]
    }
   ],
   "source": [
    "corr_matrix = train_df.corr()\n",
    "corr_matrix['SalePrice'] = round(corr_matrix['SalePrice'],4)\n",
    "print_full(corr_matrix['SalePrice'].sort_values(ascending=False))"
   ]
  },
  {
   "cell_type": "code",
   "execution_count": 33,
   "metadata": {},
   "outputs": [
    {
     "data": {
      "text/plain": [
       "HalfBath             0.2841\n",
       "GarageQual_Num       0.2738\n",
       "LotArea              0.2638\n",
       "GarageCond_Num       0.2632\n",
       "GarageYrBlt          0.2614\n",
       "CentralAir_Num       0.2513\n",
       "PavedDrive_Num       0.2314\n",
       "BsmtFullBath         0.2271\n",
       "BsmtUnfSF            0.2145\n",
       "BsmtCond_Num         0.2126\n",
       "BedroomAbvGr         0.1682\n",
       "ScreenPorch          0.1114\n",
       "Functional_Num       0.1076\n",
       "Pool_Factor          0.0937\n",
       "PoolArea             0.0924\n",
       "LandContour_Num     -0.0730\n",
       "OverallCond         -0.0779\n",
       "EnclosedPorch       -0.1286\n",
       "KitchenAbvGr        -0.1359\n",
       "Kitchen2Flr_Ratio   -0.2042\n",
       "LotShape_Num        -0.2678\n",
       "Name: SalePrice, dtype: float64"
      ]
     },
     "execution_count": 33,
     "metadata": {},
     "output_type": "execute_result"
    }
   ],
   "source": [
    "corr_matrix[(corr_matrix.SalePrice<0.3) & (corr_matrix.SalePrice>-0.3)].SalePrice.sort_values(ascending=False)"
   ]
  },
  {
   "cell_type": "code",
   "execution_count": 34,
   "metadata": {},
   "outputs": [],
   "source": [
    "drop_cols = ['KitchenAbvGr','PoolArea','OpenPorchSF','LandContour_Num','EnclosedPorch','ScreenPorch',\n",
    "             'OverallCond','FullBath','HalfBath']\n",
    "# drop_cols = ['MoSold','3SsnPorch','ExterCond_Num','BsmtFinType2_Num','BsmtFinSF2','BsmtHalfBath',\n",
    "#              'MiscVal','LowQualFinSF','OpenPorchSF','FullBath','YrSold','LandSlope_Num']\n",
    "for col in drop_cols:\n",
    "    train_df.drop(col, axis=1, inplace=True)\n",
    "    test_df.drop(col, axis=1, inplace=True)"
   ]
  },
  {
   "cell_type": "markdown",
   "metadata": {},
   "source": [
    "- Variance Inflation Factor"
   ]
  },
  {
   "cell_type": "code",
   "execution_count": 35,
   "metadata": {},
   "outputs": [],
   "source": [
    "num_features = [col for col in train_df.columns if train_df[col].dtypes != 'O' and col not in \"Id\"]\n",
    "train_df_vif = train_df.loc[:,train_df.columns.isin(num_features)]"
   ]
  },
  {
   "cell_type": "code",
   "execution_count": 36,
   "metadata": {},
   "outputs": [
    {
     "name": "stdout",
     "output_type": "stream",
     "text": [
      "const                     2.433499e+06\n",
      "LotFrontage               1.439343e+00\n",
      "LotArea                   1.394992e+00\n",
      "OverallQual               6.996395e+00\n",
      "YearBuilt                 5.058669e+00\n",
      "YearRemodAdd              2.546198e+02\n",
      "MasVnrArea                1.438530e+00\n",
      "BsmtFinSF1                9.959697e+00\n",
      "BsmtUnfSF                 9.284505e+00\n",
      "TotalBsmtSF                        inf\n",
      "1stFlrSF                           inf\n",
      "2ndFlrSF                           inf\n",
      "GrLivArea                          inf\n",
      "BsmtFullBath              2.158798e+00\n",
      "BedroomAbvGr              2.424385e+00\n",
      "TotRmsAbvGrd              4.763025e+00\n",
      "Fireplaces                4.719187e+00\n",
      "GarageYrBlt               1.392743e+01\n",
      "GarageCars                6.324242e+00\n",
      "GarageArea                         inf\n",
      "WoodDeckSF                1.745717e+00\n",
      "SalePrice                 5.718933e+00\n",
      "LotShape_Num              1.241083e+00\n",
      "ExterQual_Num             3.173202e+00\n",
      "HeatingQC_Num             1.720778e+00\n",
      "KitchenQual_Num           2.733500e+00\n",
      "BsmtQual_Num              4.608338e+00\n",
      "BsmtCond_Num              2.871219e+00\n",
      "GarageQual_Num            1.583020e+01\n",
      "GarageCond_Num            1.668555e+01\n",
      "FireplaceQu_Num           4.889691e+00\n",
      "BsmtExposure_Num          1.512919e+00\n",
      "BsmtFinType1_Num          2.601299e+00\n",
      "Functional_Num            1.196625e+00\n",
      "GarageFinish_Num          2.351043e+00\n",
      "CentralAir_Num            1.516743e+00\n",
      "PavedDrive_Num            1.486228e+00\n",
      "TotSF_Factor                       inf\n",
      "AddedArea_Factor                   inf\n",
      "TotBath_Factor            3.860684e+00\n",
      "Overall_Factor            3.889734e+00\n",
      "Yr_Factor                 2.543112e+02\n",
      "Pool_Factor               1.155443e+00\n",
      "OpenOR3SsnPorch_Factor    2.328887e+00\n",
      "Kitchen2Flr_Ratio         2.780053e+00\n",
      "dtype: float64\n"
     ]
    }
   ],
   "source": [
    "X = add_constant(train_df_vif)\n",
    "print_full(pd.Series([variance_inflation_factor(X.values, i)\n",
    "          for i in range(X.shape[1])], index=X.columns))"
   ]
  },
  {
   "cell_type": "code",
   "execution_count": 37,
   "metadata": {},
   "outputs": [],
   "source": [
    "drop_cols = ['GrLivArea','2ndFlrSF']\n",
    "for col in drop_cols:\n",
    "    train_df.drop(col, axis=1, inplace=True)\n",
    "    test_df.drop(col, axis=1, inplace=True)"
   ]
  },
  {
   "cell_type": "code",
   "execution_count": 38,
   "metadata": {},
   "outputs": [],
   "source": [
    "num_features = [col for col in train_df.columns if train_df[col].dtypes != 'O' and col not in \"Id\"]\n",
    "train_df_vif = train_df.loc[:,train_df.columns.isin(num_features)]"
   ]
  },
  {
   "cell_type": "code",
   "execution_count": 39,
   "metadata": {},
   "outputs": [
    {
     "name": "stdout",
     "output_type": "stream",
     "text": [
      "const                     2.433499e+06\n",
      "LotFrontage               1.439343e+00\n",
      "LotArea                   1.394992e+00\n",
      "OverallQual               6.996395e+00\n",
      "YearBuilt                 5.058669e+00\n",
      "YearRemodAdd              2.546198e+02\n",
      "MasVnrArea                1.438530e+00\n",
      "BsmtFinSF1                9.959697e+00\n",
      "BsmtUnfSF                 9.284505e+00\n",
      "TotalBsmtSF               1.047828e+02\n",
      "1stFlrSF                  7.138822e+00\n",
      "BsmtFullBath              2.158798e+00\n",
      "BedroomAbvGr              2.424385e+00\n",
      "TotRmsAbvGrd              4.763025e+00\n",
      "Fireplaces                4.719187e+00\n",
      "GarageYrBlt               1.392743e+01\n",
      "GarageCars                6.324242e+00\n",
      "GarageArea                2.813412e+01\n",
      "WoodDeckSF                1.745717e+00\n",
      "SalePrice                 5.718933e+00\n",
      "LotShape_Num              1.241083e+00\n",
      "ExterQual_Num             3.173202e+00\n",
      "HeatingQC_Num             1.720778e+00\n",
      "KitchenQual_Num           2.733500e+00\n",
      "BsmtQual_Num              4.608338e+00\n",
      "BsmtCond_Num              2.871219e+00\n",
      "GarageQual_Num            1.583020e+01\n",
      "GarageCond_Num            1.668555e+01\n",
      "FireplaceQu_Num           4.889691e+00\n",
      "BsmtExposure_Num          1.512919e+00\n",
      "BsmtFinType1_Num          2.601299e+00\n",
      "Functional_Num            1.196625e+00\n",
      "GarageFinish_Num          2.351043e+00\n",
      "CentralAir_Num            1.516743e+00\n",
      "PavedDrive_Num            1.486228e+00\n",
      "TotSF_Factor              3.279248e+02\n",
      "AddedArea_Factor          2.047152e+02\n",
      "TotBath_Factor            3.860684e+00\n",
      "Overall_Factor            3.889734e+00\n",
      "Yr_Factor                 2.543112e+02\n",
      "Pool_Factor               1.155443e+00\n",
      "OpenOR3SsnPorch_Factor    2.328887e+00\n",
      "Kitchen2Flr_Ratio         2.780053e+00\n",
      "dtype: float64\n"
     ]
    }
   ],
   "source": [
    "X = add_constant(train_df_vif)\n",
    "print_full(pd.Series([variance_inflation_factor(X.values, i)\n",
    "          for i in range(X.shape[1])], index=X.columns))"
   ]
  },
  {
   "cell_type": "markdown",
   "metadata": {},
   "source": [
    "## Outliers Analysis:"
   ]
  },
  {
   "cell_type": "code",
   "execution_count": 40,
   "metadata": {},
   "outputs": [],
   "source": [
    "def outlier_thresholds(df, var):\n",
    "    quartile1 = df[var].quantile(0.05)\n",
    "    quartile3 = df[var].quantile(0.95)\n",
    "    interquantile_range = quartile3 - quartile1\n",
    "    up_limit = quartile3 + 1.5 * interquantile_range\n",
    "    low_limit = quartile1 - 1.5 * interquantile_range\n",
    "    return low_limit, up_limit\n",
    "\n",
    "def has_outliers(df, num_col_names):\n",
    "    var_names = []\n",
    "    for col in num_col_names:\n",
    "        low_limit, up_limit = outlier_thresholds(df, col)\n",
    "        if df[(df[col] > up_limit) | (df[col] < low_limit)].any(axis=None):\n",
    "            number_of_outliers = df[(df[col] > up_limit) | (df[col] < low_limit)].shape[0]\n",
    "            var_names.append(col)\n",
    "    return var_names\n",
    "\n",
    "def replace_with_thresholds(df, var):\n",
    "    low_limit, up_limit = outlier_thresholds(df, var)\n",
    "    df.loc[(df[var] < low_limit), var] = low_limit\n",
    "    df.loc[(df[var] > up_limit), var] = up_limit"
   ]
  },
  {
   "cell_type": "code",
   "execution_count": 41,
   "metadata": {},
   "outputs": [
    {
     "data": {
      "text/plain": [
       "['LotFrontage',\n",
       " 'LotArea',\n",
       " 'MasVnrArea',\n",
       " 'BsmtFinSF1',\n",
       " 'TotalBsmtSF',\n",
       " '1stFlrSF',\n",
       " 'BsmtFullBath',\n",
       " 'BedroomAbvGr',\n",
       " 'WoodDeckSF',\n",
       " 'SalePrice',\n",
       " 'LotShape_Num',\n",
       " 'BsmtCond_Num',\n",
       " 'Functional_Num',\n",
       " 'TotSF_Factor',\n",
       " 'AddedArea_Factor',\n",
       " 'Pool_Factor',\n",
       " 'Kitchen2Flr_Ratio']"
      ]
     },
     "execution_count": 41,
     "metadata": {},
     "output_type": "execute_result"
    }
   ],
   "source": [
    "has_outliers(train_df, num_features)"
   ]
  },
  {
   "cell_type": "code",
   "execution_count": 42,
   "metadata": {},
   "outputs": [
    {
     "data": {
      "text/plain": [
       "[]"
      ]
     },
     "execution_count": 42,
     "metadata": {},
     "output_type": "execute_result"
    }
   ],
   "source": [
    "for col in num_features:\n",
    "    replace_with_thresholds(train_df, col)\n",
    "\n",
    "has_outliers(train_df, num_features)"
   ]
  },
  {
   "cell_type": "markdown",
   "metadata": {},
   "source": [
    "## Categorical Variable Analysis for non-ordered categories"
   ]
  },
  {
   "cell_type": "code",
   "execution_count": 43,
   "metadata": {},
   "outputs": [],
   "source": [
    "train_df = pd.get_dummies(data = train_df, columns = [\"SaleCondition\", \"MSSubClass_Cat\", \"MSZoning\", \"LotConfig\",\n",
    "        \"Neighborhood\", \"Condition1\", \"Condition2\", \"BldgType\", \"HouseStyle\", \"RoofStyle\", \"RoofMatl\", \"Exterior1st\", \n",
    "        \"Exterior2nd\", \"MasVnrType\", \"Foundation\", \"Heating\", \"Electrical\", \"GarageType\", \"SaleType\", \"Fence\", \"Alley\"] , drop_first=True)"
   ]
  },
  {
   "cell_type": "code",
   "execution_count": 44,
   "metadata": {},
   "outputs": [
    {
     "data": {
      "text/html": [
       "<div>\n",
       "<style scoped>\n",
       "    .dataframe tbody tr th:only-of-type {\n",
       "        vertical-align: middle;\n",
       "    }\n",
       "\n",
       "    .dataframe tbody tr th {\n",
       "        vertical-align: top;\n",
       "    }\n",
       "\n",
       "    .dataframe thead th {\n",
       "        text-align: right;\n",
       "    }\n",
       "</style>\n",
       "<table border=\"1\" class=\"dataframe\">\n",
       "  <thead>\n",
       "    <tr style=\"text-align: right;\">\n",
       "      <th></th>\n",
       "      <th>LotFrontage</th>\n",
       "      <th>LotArea</th>\n",
       "      <th>OverallQual</th>\n",
       "      <th>YearBuilt</th>\n",
       "      <th>YearRemodAdd</th>\n",
       "      <th>MasVnrArea</th>\n",
       "      <th>BsmtFinSF1</th>\n",
       "      <th>BsmtUnfSF</th>\n",
       "      <th>TotalBsmtSF</th>\n",
       "      <th>1stFlrSF</th>\n",
       "      <th>...</th>\n",
       "      <th>SaleType_ConLw</th>\n",
       "      <th>SaleType_New</th>\n",
       "      <th>SaleType_Oth</th>\n",
       "      <th>SaleType_WD</th>\n",
       "      <th>Fence_GdWo</th>\n",
       "      <th>Fence_MnPrv</th>\n",
       "      <th>Fence_MnWw</th>\n",
       "      <th>Fence_NA</th>\n",
       "      <th>Alley_NA</th>\n",
       "      <th>Alley_Pave</th>\n",
       "    </tr>\n",
       "    <tr>\n",
       "      <th>Id</th>\n",
       "      <th></th>\n",
       "      <th></th>\n",
       "      <th></th>\n",
       "      <th></th>\n",
       "      <th></th>\n",
       "      <th></th>\n",
       "      <th></th>\n",
       "      <th></th>\n",
       "      <th></th>\n",
       "      <th></th>\n",
       "      <th></th>\n",
       "      <th></th>\n",
       "      <th></th>\n",
       "      <th></th>\n",
       "      <th></th>\n",
       "      <th></th>\n",
       "      <th></th>\n",
       "      <th></th>\n",
       "      <th></th>\n",
       "      <th></th>\n",
       "      <th></th>\n",
       "    </tr>\n",
       "  </thead>\n",
       "  <tbody>\n",
       "    <tr>\n",
       "      <th>1</th>\n",
       "      <td>65.0</td>\n",
       "      <td>8450.0</td>\n",
       "      <td>7.0</td>\n",
       "      <td>2003.0</td>\n",
       "      <td>2003.0</td>\n",
       "      <td>196.0</td>\n",
       "      <td>706.0</td>\n",
       "      <td>150.0</td>\n",
       "      <td>856.0</td>\n",
       "      <td>856.0</td>\n",
       "      <td>...</td>\n",
       "      <td>0</td>\n",
       "      <td>0</td>\n",
       "      <td>0</td>\n",
       "      <td>1</td>\n",
       "      <td>0</td>\n",
       "      <td>0</td>\n",
       "      <td>0</td>\n",
       "      <td>1</td>\n",
       "      <td>1</td>\n",
       "      <td>0</td>\n",
       "    </tr>\n",
       "    <tr>\n",
       "      <th>2</th>\n",
       "      <td>80.0</td>\n",
       "      <td>9600.0</td>\n",
       "      <td>6.0</td>\n",
       "      <td>1976.0</td>\n",
       "      <td>1976.0</td>\n",
       "      <td>0.0</td>\n",
       "      <td>978.0</td>\n",
       "      <td>284.0</td>\n",
       "      <td>1262.0</td>\n",
       "      <td>1262.0</td>\n",
       "      <td>...</td>\n",
       "      <td>0</td>\n",
       "      <td>0</td>\n",
       "      <td>0</td>\n",
       "      <td>1</td>\n",
       "      <td>0</td>\n",
       "      <td>0</td>\n",
       "      <td>0</td>\n",
       "      <td>1</td>\n",
       "      <td>1</td>\n",
       "      <td>0</td>\n",
       "    </tr>\n",
       "    <tr>\n",
       "      <th>3</th>\n",
       "      <td>68.0</td>\n",
       "      <td>11250.0</td>\n",
       "      <td>7.0</td>\n",
       "      <td>2001.0</td>\n",
       "      <td>2002.0</td>\n",
       "      <td>162.0</td>\n",
       "      <td>486.0</td>\n",
       "      <td>434.0</td>\n",
       "      <td>920.0</td>\n",
       "      <td>920.0</td>\n",
       "      <td>...</td>\n",
       "      <td>0</td>\n",
       "      <td>0</td>\n",
       "      <td>0</td>\n",
       "      <td>1</td>\n",
       "      <td>0</td>\n",
       "      <td>0</td>\n",
       "      <td>0</td>\n",
       "      <td>1</td>\n",
       "      <td>1</td>\n",
       "      <td>0</td>\n",
       "    </tr>\n",
       "    <tr>\n",
       "      <th>4</th>\n",
       "      <td>60.0</td>\n",
       "      <td>9550.0</td>\n",
       "      <td>7.0</td>\n",
       "      <td>1915.0</td>\n",
       "      <td>1970.0</td>\n",
       "      <td>0.0</td>\n",
       "      <td>216.0</td>\n",
       "      <td>540.0</td>\n",
       "      <td>756.0</td>\n",
       "      <td>961.0</td>\n",
       "      <td>...</td>\n",
       "      <td>0</td>\n",
       "      <td>0</td>\n",
       "      <td>0</td>\n",
       "      <td>1</td>\n",
       "      <td>0</td>\n",
       "      <td>0</td>\n",
       "      <td>0</td>\n",
       "      <td>1</td>\n",
       "      <td>1</td>\n",
       "      <td>0</td>\n",
       "    </tr>\n",
       "    <tr>\n",
       "      <th>5</th>\n",
       "      <td>84.0</td>\n",
       "      <td>14260.0</td>\n",
       "      <td>8.0</td>\n",
       "      <td>2000.0</td>\n",
       "      <td>2000.0</td>\n",
       "      <td>350.0</td>\n",
       "      <td>655.0</td>\n",
       "      <td>490.0</td>\n",
       "      <td>1145.0</td>\n",
       "      <td>1145.0</td>\n",
       "      <td>...</td>\n",
       "      <td>0</td>\n",
       "      <td>0</td>\n",
       "      <td>0</td>\n",
       "      <td>1</td>\n",
       "      <td>0</td>\n",
       "      <td>0</td>\n",
       "      <td>0</td>\n",
       "      <td>1</td>\n",
       "      <td>1</td>\n",
       "      <td>0</td>\n",
       "    </tr>\n",
       "  </tbody>\n",
       "</table>\n",
       "<p>5 rows × 196 columns</p>\n",
       "</div>"
      ],
      "text/plain": [
       "    LotFrontage  LotArea  OverallQual  YearBuilt  YearRemodAdd  MasVnrArea  \\\n",
       "Id                                                                           \n",
       "1          65.0   8450.0          7.0     2003.0        2003.0       196.0   \n",
       "2          80.0   9600.0          6.0     1976.0        1976.0         0.0   \n",
       "3          68.0  11250.0          7.0     2001.0        2002.0       162.0   \n",
       "4          60.0   9550.0          7.0     1915.0        1970.0         0.0   \n",
       "5          84.0  14260.0          8.0     2000.0        2000.0       350.0   \n",
       "\n",
       "    BsmtFinSF1  BsmtUnfSF  TotalBsmtSF  1stFlrSF  ...  SaleType_ConLw  \\\n",
       "Id                                                ...                   \n",
       "1        706.0      150.0        856.0     856.0  ...               0   \n",
       "2        978.0      284.0       1262.0    1262.0  ...               0   \n",
       "3        486.0      434.0        920.0     920.0  ...               0   \n",
       "4        216.0      540.0        756.0     961.0  ...               0   \n",
       "5        655.0      490.0       1145.0    1145.0  ...               0   \n",
       "\n",
       "    SaleType_New  SaleType_Oth  SaleType_WD  Fence_GdWo  Fence_MnPrv  \\\n",
       "Id                                                                     \n",
       "1              0             0            1           0            0   \n",
       "2              0             0            1           0            0   \n",
       "3              0             0            1           0            0   \n",
       "4              0             0            1           0            0   \n",
       "5              0             0            1           0            0   \n",
       "\n",
       "    Fence_MnWw  Fence_NA  Alley_NA  Alley_Pave  \n",
       "Id                                              \n",
       "1            0         1         1           0  \n",
       "2            0         1         1           0  \n",
       "3            0         1         1           0  \n",
       "4            0         1         1           0  \n",
       "5            0         1         1           0  \n",
       "\n",
       "[5 rows x 196 columns]"
      ]
     },
     "execution_count": 44,
     "metadata": {},
     "output_type": "execute_result"
    }
   ],
   "source": [
    "train_df.head()"
   ]
  },
  {
   "cell_type": "code",
   "execution_count": 45,
   "metadata": {},
   "outputs": [],
   "source": [
    "test_df = pd.get_dummies(data = test_df, columns = [\"SaleCondition\", \"MSSubClass_Cat\", \"MSZoning\", \"LotConfig\",\n",
    "        \"Neighborhood\", \"Condition1\", \"Condition2\", \"BldgType\", \"HouseStyle\", \"RoofStyle\", \"RoofMatl\", \"Exterior1st\", \n",
    "        \"Exterior2nd\", \"MasVnrType\", \"Foundation\", \"Heating\", \"Electrical\", \"GarageType\", \"SaleType\", \"Fence\", \"Alley\"] , drop_first=True)"
   ]
  },
  {
   "cell_type": "code",
   "execution_count": 46,
   "metadata": {},
   "outputs": [],
   "source": [
    "train_cols = train_df.columns\n",
    "test_cols = test_df.columns\n",
    "\n",
    "train_not_test = train_cols.difference(test_cols)\n",
    "train_not_test = train_not_test.drop(['SalePrice'])\n",
    "test_df = pd.concat([test_df,pd.DataFrame(\n",
    "    [[0, 0, 0, 0, 0, 0, 0, 0, 0, 0, 0, 0, 0, 0, 0, 0, 0]],index=test_df.index, columns=train_not_test)], axis=1\n",
    ")"
   ]
  },
  {
   "cell_type": "code",
   "execution_count": 47,
   "metadata": {},
   "outputs": [],
   "source": [
    "train_cols = train_df.columns\n",
    "test_cols = test_df.columns\n",
    "\n",
    "test_not_train = test_cols.difference(train_cols)\n",
    "train_df['MSSubClass_Cat_HalfStPudAA'] = 0"
   ]
  },
  {
   "cell_type": "markdown",
   "metadata": {},
   "source": [
    "## Split data set into train dataset and test dataset "
   ]
  },
  {
   "cell_type": "code",
   "execution_count": 48,
   "metadata": {},
   "outputs": [],
   "source": [
    "#Independent variable:\n",
    "x= train_df.loc[:,~train_df.columns.isin(['Id','SalePrice'])]\n",
    "\n",
    "#dependent variable:\n",
    "y=train_df.loc[:,'SalePrice']"
   ]
  },
  {
   "cell_type": "code",
   "execution_count": 49,
   "metadata": {},
   "outputs": [],
   "source": [
    "x_train, x_test, y_train, y_test= train_test_split(x,y,test_size=0.3,random_state=42)"
   ]
  },
  {
   "cell_type": "markdown",
   "metadata": {},
   "source": [
    "# Model"
   ]
  },
  {
   "cell_type": "code",
   "execution_count": 50,
   "metadata": {},
   "outputs": [],
   "source": [
    "def percentage_error(actual, predicted):\n",
    "    res = np.empty(actual.shape)\n",
    "    for j in range(actual.shape[0]):\n",
    "        if actual[j] != 0:\n",
    "            res[j] = (actual[j] - predicted[j]) / actual[j]\n",
    "        else:\n",
    "            res[j] = predicted[j] / np.mean(actual)\n",
    "    return res\n",
    "\n",
    "def mean_absolute_percentage_error(y_true, y_pred): \n",
    "    return np.mean(np.abs(percentage_error(np.asarray(y_true), np.asarray(y_pred)))) * 100"
   ]
  },
  {
   "cell_type": "code",
   "execution_count": 51,
   "metadata": {},
   "outputs": [],
   "source": [
    "def plotModel(predictions, fig_width=15, fig_height=6, dot_size=15, title='Actual vs Predicted Sale Price'):   \n",
    "    fig, ax = plt.subplots(figsize=(fig_width, fig_height))\n",
    "    \n",
    "    #Display number in decimal form, not scientific notation\n",
    "    ax.ticklabel_format(style='plain', axis='y')\n",
    "    ax.scatter(y_test, predictions, label='Predicted', s=dot_size, alpha=0.6)\n",
    "    ax.plot(y_test, y_test, label='Actual', color='lightseagreen')\n",
    "    \n",
    "    ax.set_xlabel(r'Actual Sale Price', fontsize=15)   \n",
    "    ax.set_ylabel(r'Predicted Sale Price', fontsize=15)    \n",
    "    ax.tick_params(axis='both', which='major', labelsize=12)\n",
    "    ax.grid(True)\n",
    "\n",
    "    ax.set_title(title)\n",
    "    plt.legend(loc=2, prop={'size': 15})\n",
    "    plt.show()  "
   ]
  },
  {
   "cell_type": "markdown",
   "metadata": {},
   "source": [
    "## Linear Regression"
   ]
  },
  {
   "cell_type": "code",
   "execution_count": 52,
   "metadata": {},
   "outputs": [],
   "source": [
    "ln_reg=LinearRegression()"
   ]
  },
  {
   "cell_type": "code",
   "execution_count": 53,
   "metadata": {},
   "outputs": [
    {
     "data": {
      "text/plain": [
       "LinearRegression(copy_X=True, fit_intercept=True, n_jobs=None, normalize=False)"
      ]
     },
     "execution_count": 53,
     "metadata": {},
     "output_type": "execute_result"
    }
   ],
   "source": [
    "ln_reg.fit(x_train,y_train)"
   ]
  },
  {
   "cell_type": "code",
   "execution_count": 54,
   "metadata": {},
   "outputs": [],
   "source": [
    "ln_y_pred=ln_reg.predict(x_test)"
   ]
  },
  {
   "cell_type": "code",
   "execution_count": 55,
   "metadata": {},
   "outputs": [
    {
     "name": "stdout",
     "output_type": "stream",
     "text": [
      "MAPE =  12.169423226153436 \n",
      "MSE =  1235036390.887435 \n",
      "r2_score =  0.8184154095313213\n"
     ]
    }
   ],
   "source": [
    "print('MAPE = ', mean_absolute_percentage_error(y_test,ln_y_pred),\n",
    "      '\\nMSE = ', mean_squared_error(y_test,ln_y_pred),\n",
    "      '\\nr2_score = ', r2_score(y_test,ln_y_pred))"
   ]
  },
  {
   "cell_type": "code",
   "execution_count": 56,
   "metadata": {},
   "outputs": [
    {
     "data": {
      "image/png": "[encoded data removed]",
      "text/plain": [
       "<Figure size 1080x432 with 1 Axes>"
      ]
     },
     "metadata": {
      "needs_background": "light"
     },
     "output_type": "display_data"
    }
   ],
   "source": [
    "plotModel(ln_y_pred, title='Actual vs Predicted Sale Price [Linear Regression]')"
   ]
  },
  {
   "cell_type": "markdown",
   "metadata": {},
   "source": [
    "## Decision Tree"
   ]
  },
  {
   "cell_type": "code",
   "execution_count": 57,
   "metadata": {},
   "outputs": [
    {
     "data": {
      "text/plain": [
       "DecisionTreeRegressor(ccp_alpha=0.0, criterion='mse', max_depth=None,\n",
       "                      max_features=None, max_leaf_nodes=None,\n",
       "                      min_impurity_decrease=0.0, min_impurity_split=None,\n",
       "                      min_samples_leaf=1, min_samples_split=2,\n",
       "                      min_weight_fraction_leaf=0.0, presort='deprecated',\n",
       "                      random_state=None, splitter='best')"
      ]
     },
     "execution_count": 57,
     "metadata": {},
     "output_type": "execute_result"
    }
   ],
   "source": [
    "regressor_dt = DecisionTreeRegressor()\n",
    "regressor_dt.fit(x_train, y_train)"
   ]
  },
  {
   "cell_type": "code",
   "execution_count": 58,
   "metadata": {},
   "outputs": [],
   "source": [
    "dt_y_pred=regressor_dt.predict(x_test)"
   ]
  },
  {
   "cell_type": "code",
   "execution_count": 59,
   "metadata": {},
   "outputs": [
    {
     "name": "stdout",
     "output_type": "stream",
     "text": [
      "MAPE =  14.581429088192321 \n",
      "MSE =  1538382777.0547943 \n",
      "r2_score =  0.7738150805784443\n"
     ]
    }
   ],
   "source": [
    "# mean_absolute_percentage_error(y_test,dt_y_pred)\n",
    "print('MAPE = ', mean_absolute_percentage_error(y_test,dt_y_pred), \n",
    "      '\\nMSE = ', mean_squared_error(y_test,dt_y_pred),\n",
    "      '\\nr2_score = ', r2_score(y_test,dt_y_pred))"
   ]
  },
  {
   "cell_type": "code",
   "execution_count": 60,
   "metadata": {},
   "outputs": [
    {
     "data": {
      "image/png": "[encoded data removed]",
      "text/plain": [
       "<Figure size 1080x432 with 1 Axes>"
      ]
     },
     "metadata": {
      "needs_background": "light"
     },
     "output_type": "display_data"
    }
   ],
   "source": [
    "plotModel(dt_y_pred, title='Actual vs Predicted Sale Price [Decision Tree]')"
   ]
  },
  {
   "cell_type": "markdown",
   "metadata": {},
   "source": [
    "## SVR"
   ]
  },
  {
   "cell_type": "markdown",
   "metadata": {},
   "source": [
    "\n",
    "- kernel = rbf\n"
   ]
  },
  {
   "cell_type": "code",
   "execution_count": 61,
   "metadata": {},
   "outputs": [],
   "source": [
    "svr_regressor = SVR(kernel = 'rbf')"
   ]
  },
  {
   "cell_type": "code",
   "execution_count": 62,
   "metadata": {},
   "outputs": [
    {
     "data": {
      "text/plain": [
       "SVR(C=1.0, cache_size=200, coef0=0.0, degree=3, epsilon=0.1, gamma='scale',\n",
       "    kernel='rbf', max_iter=-1, shrinking=True, tol=0.001, verbose=False)"
      ]
     },
     "execution_count": 62,
     "metadata": {},
     "output_type": "execute_result"
    }
   ],
   "source": [
    "svr_regressor.fit(x_train,y_train)"
   ]
  },
  {
   "cell_type": "code",
   "execution_count": 63,
   "metadata": {},
   "outputs": [],
   "source": [
    "svr_y_pred = svr_regressor.predict(x_test)"
   ]
  },
  {
   "cell_type": "code",
   "execution_count": 64,
   "metadata": {
    "scrolled": true
   },
   "outputs": [
    {
     "name": "stdout",
     "output_type": "stream",
     "text": [
      "MAPE =  33.275696308757524 \n",
      "MSE =  7017681056.184142 \n",
      "r2_score =  -0.03179367833149627\n"
     ]
    }
   ],
   "source": [
    "print('MAPE = ', mean_absolute_percentage_error(y_test,svr_y_pred), \n",
    "      '\\nMSE = ', mean_squared_error(y_test,svr_y_pred),\n",
    "      '\\nr2_score = ', r2_score(y_test,svr_y_pred))"
   ]
  },
  {
   "cell_type": "markdown",
   "metadata": {},
   "source": [
    "## Random Forest"
   ]
  },
  {
   "cell_type": "code",
   "execution_count": 65,
   "metadata": {},
   "outputs": [
    {
     "data": {
      "text/plain": [
       "RandomForestRegressor(bootstrap=True, ccp_alpha=0.0, criterion='mse',\n",
       "                      max_depth=None, max_features='auto', max_leaf_nodes=None,\n",
       "                      max_samples=None, min_impurity_decrease=0.0,\n",
       "                      min_impurity_split=None, min_samples_leaf=1,\n",
       "                      min_samples_split=2, min_weight_fraction_leaf=0.0,\n",
       "                      n_estimators=100, n_jobs=None, oob_score=False,\n",
       "                      random_state=None, verbose=0, warm_start=False)"
      ]
     },
     "execution_count": 65,
     "metadata": {},
     "output_type": "execute_result"
    }
   ],
   "source": [
    "rf_regressor = RandomForestRegressor()\n",
    "rf_regressor.fit(x_train,y_train)"
   ]
  },
  {
   "cell_type": "code",
   "execution_count": 66,
   "metadata": {},
   "outputs": [],
   "source": [
    "rf_y_pred = rf_regressor.predict(x_test)"
   ]
  },
  {
   "cell_type": "code",
   "execution_count": 67,
   "metadata": {},
   "outputs": [
    {
     "name": "stdout",
     "output_type": "stream",
     "text": [
      "MAPE =  8.96216404540578 \n",
      "MSE =  582136403.284892 \n",
      "r2_score =  0.9144098091624321\n"
     ]
    }
   ],
   "source": [
    "print('MAPE = ', mean_absolute_percentage_error(y_test,rf_y_pred), \n",
    "      '\\nMSE = ', mean_squared_error(y_test,rf_y_pred),\n",
    "      '\\nr2_score = ', r2_score(y_test,rf_y_pred))"
   ]
  },
  {
   "cell_type": "code",
   "execution_count": 68,
   "metadata": {},
   "outputs": [
    {
     "data": {
      "image/png": "[encoded data removed]",
      "text/plain": [
       "<Figure size 1080x432 with 1 Axes>"
      ]
     },
     "metadata": {
      "needs_background": "light"
     },
     "output_type": "display_data"
    }
   ],
   "source": [
    "plotModel(rf_y_pred, title='Actual vs Predicted Sale Price [Random Tree]')"
   ]
  },
  {
   "cell_type": "markdown",
   "metadata": {},
   "source": [
    "## LASSO regression"
   ]
  },
  {
   "cell_type": "code",
   "execution_count": 69,
   "metadata": {},
   "outputs": [
    {
     "data": {
      "text/plain": [
       "LassoCV(alphas=None, copy_X=True, cv=None, eps=0.001, fit_intercept=True,\n",
       "        max_iter=1000, n_alphas=100, n_jobs=None, normalize=False,\n",
       "        positive=False, precompute='auto', random_state=None,\n",
       "        selection='cyclic', tol=0.0001, verbose=False)"
      ]
     },
     "execution_count": 69,
     "metadata": {},
     "output_type": "execute_result"
    }
   ],
   "source": [
    "lasso_regressor = LassoCV()\n",
    "lasso_regressor.fit(x_train,y_train)"
   ]
  },
  {
   "cell_type": "code",
   "execution_count": 70,
   "metadata": {},
   "outputs": [],
   "source": [
    "lasso_y_pred=lasso_regressor.predict(x_test)"
   ]
  },
  {
   "cell_type": "code",
   "execution_count": 71,
   "metadata": {},
   "outputs": [
    {
     "name": "stdout",
     "output_type": "stream",
     "text": [
      "MAPE =  14.368569014205281 \n",
      "MSE =  1319515638.39832 \n",
      "r2_score =  0.8059946179857835\n"
     ]
    }
   ],
   "source": [
    "print('MAPE = ', mean_absolute_percentage_error(y_test,lasso_y_pred), \n",
    "      '\\nMSE = ', mean_squared_error(y_test,lasso_y_pred),\n",
    "      '\\nr2_score = ', r2_score(y_test,lasso_y_pred))"
   ]
  },
  {
   "cell_type": "markdown",
   "metadata": {},
   "source": [
    "## Ridge Regression"
   ]
  },
  {
   "cell_type": "code",
   "execution_count": 72,
   "metadata": {},
   "outputs": [
    {
     "data": {
      "text/plain": [
       "RidgeCV(alphas=array([ 0.1,  1. , 10. ]), cv=None, fit_intercept=True,\n",
       "        gcv_mode=None, normalize=False, scoring=None, store_cv_values=False)"
      ]
     },
     "execution_count": 72,
     "metadata": {},
     "output_type": "execute_result"
    }
   ],
   "source": [
    "ridge_regressor = RidgeCV()\n",
    "ridge_regressor.fit(x_train,y_train)"
   ]
  },
  {
   "cell_type": "code",
   "execution_count": 73,
   "metadata": {},
   "outputs": [],
   "source": [
    "ridge_y_pred = ridge_regressor.predict(x_test)"
   ]
  },
  {
   "cell_type": "code",
   "execution_count": 74,
   "metadata": {},
   "outputs": [
    {
     "name": "stdout",
     "output_type": "stream",
     "text": [
      "MAPE =  11.410621055845652 \n",
      "MSE =  753942527.8204751 \n",
      "r2_score =  0.889149545583164\n"
     ]
    }
   ],
   "source": [
    "print('MAPE = ', mean_absolute_percentage_error(y_test,ridge_y_pred), \n",
    "      '\\nMSE = ', mean_squared_error(y_test,ridge_y_pred),\n",
    "      '\\nr2_score = ', r2_score(y_test,ridge_y_pred))"
   ]
  },
  {
   "cell_type": "markdown",
   "metadata": {},
   "source": [
    "## XGBoost Regression:"
   ]
  },
  {
   "cell_type": "code",
   "execution_count": 75,
   "metadata": {},
   "outputs": [],
   "source": [
    "xgb_r = xg.XGBRegressor(objective ='reg:squarederror', n_estimators = 100, seed = 123,\n",
    "                        subsample=0.75, learning_rate=0.1)"
   ]
  },
  {
   "cell_type": "code",
   "execution_count": 76,
   "metadata": {},
   "outputs": [
    {
     "name": "stdout",
     "output_type": "stream",
     "text": [
      "MAPE: 8.74%\n",
      "MSE: 612027985.13\n",
      "r2_score: 0.910015\n",
      "variance score: 0.91\n"
     ]
    }
   ],
   "source": [
    "# Fitting the model \n",
    "xgb_r.fit(x_train, y_train) \n",
    "  \n",
    "# Predict the model \n",
    "xgb_pred = xgb_r.predict(x_test) \n",
    "  \n",
    "# MSE \n",
    "mse = mean_squared_error(y_test, xgb_pred)\n",
    "\n",
    "# r2 score\n",
    "r2 = r2_score(y_test, xgb_pred)\n",
    "\n",
    "# variance score\n",
    "var_score = explained_variance_score(y_test, xgb_pred)\n",
    "\n",
    "# MAPE\n",
    "mape = mean_absolute_percentage_error(y_test, xgb_pred)\n",
    "\n",
    "print(\"MAPE: %.2f\" %(mape) + '%')\n",
    "print(\"MSE: %.2f\" %(mse)) \n",
    "print(\"r2_score: %f\" %(r2))\n",
    "print(\"variance score: %.2f\" %(var_score))\n"
   ]
  },
  {
   "cell_type": "code",
   "execution_count": 77,
   "metadata": {},
   "outputs": [
    {
     "data": {
      "image/png": "[encoded data removed]",
      "text/plain": [
       "<Figure size 1080x432 with 1 Axes>"
      ]
     },
     "metadata": {
      "needs_background": "light"
     },
     "output_type": "display_data"
    }
   ],
   "source": [
    "plotModel(xgb_pred, title='Actual vs Predicted Sale Price [XGBoost]')"
   ]
  },
  {
   "cell_type": "markdown",
   "metadata": {},
   "source": [
    "## ElasticNet Regression"
   ]
  },
  {
   "cell_type": "code",
   "execution_count": 78,
   "metadata": {},
   "outputs": [
    {
     "data": {
      "text/plain": [
       "ElasticNetCV(alphas=None, copy_X=True, cv=None, eps=0.001, fit_intercept=True,\n",
       "             l1_ratio=0.5, max_iter=1000, n_alphas=100, n_jobs=None,\n",
       "             normalize=False, positive=False, precompute='auto',\n",
       "             random_state=None, selection='cyclic', tol=0.0001, verbose=0)"
      ]
     },
     "execution_count": 78,
     "metadata": {},
     "output_type": "execute_result"
    }
   ],
   "source": [
    "el_regressor = ElasticNetCV()\n",
    "el_regressor.fit(x_train,y_train)"
   ]
  },
  {
   "cell_type": "code",
   "execution_count": 79,
   "metadata": {},
   "outputs": [],
   "source": [
    "el_y_pred=el_regressor.predict(x_test)"
   ]
  },
  {
   "cell_type": "code",
   "execution_count": 80,
   "metadata": {},
   "outputs": [
    {
     "name": "stdout",
     "output_type": "stream",
     "text": [
      "MAPE =  17.584945833231416 \n",
      "MSE =  2149362937.7800574 \n",
      "r2_score =  0.6839840577127414\n"
     ]
    }
   ],
   "source": [
    "print('MAPE = ', mean_absolute_percentage_error(y_test,el_y_pred), \n",
    "      '\\nMSE = ', mean_squared_error(y_test,el_y_pred),\n",
    "      '\\nr2_score = ', r2_score(y_test,el_y_pred))"
   ]
  },
  {
   "cell_type": "markdown",
   "metadata": {},
   "source": [
    "## KNeighbors"
   ]
  },
  {
   "cell_type": "code",
   "execution_count": 81,
   "metadata": {},
   "outputs": [
    {
     "name": "stdout",
     "output_type": "stream",
     "text": [
      "MAPE =  14.389592661459616 \n",
      "MSE =  1848535878.7044644 \n",
      "r2_score =  0.7282139757355515\n"
     ]
    }
   ],
   "source": [
    "kn_regressor = KNeighborsRegressor(n_neighbors=3)\n",
    "kn_regressor.fit(x_train, y_train)\n",
    "kn_y_pred = kn_regressor.predict(x_test)\n",
    "print('MAPE = ', mean_absolute_percentage_error(y_test,kn_y_pred), \n",
    "      '\\nMSE = ', mean_squared_error(y_test,kn_y_pred),\n",
    "      '\\nr2_score = ', r2_score(y_test,kn_y_pred))"
   ]
  },
  {
   "cell_type": "markdown",
   "metadata": {},
   "source": [
    "## Kernel Ridge Regression"
   ]
  },
  {
   "cell_type": "code",
   "execution_count": 82,
   "metadata": {},
   "outputs": [
    {
     "name": "stdout",
     "output_type": "stream",
     "text": [
      "Mean squared error: 865552687.10\n",
      "Coefficient of determination: 0.87\n",
      "MAPE: 0.12 \n",
      "MAPE function == 12.313258863354507\n"
     ]
    }
   ],
   "source": [
    "kernelRidge = KernelRidge(alpha=0.1, degree=2, coef0=1.3)\n",
    "kernelRidge_model = kernelRidge.fit(x_train,y_train)\n",
    "y_pred_KRM = kernelRidge_model.predict(x_test)\n",
    "\n",
    "print('Mean squared error: %.2f'\n",
    "      % mean_squared_error(y_test, y_pred_KRM))\n",
    "\n",
    "print('Coefficient of determination: %.2f'\n",
    "      % r2_score(y_test, y_pred_KRM))\n",
    "\n",
    "print('MAPE: %.2f'\n",
    "      % np.mean(np.abs((y_test - y_pred_KRM) / y_test)),\n",
    "     '\\nMAPE function ==',mean_absolute_percentage_error(y_test,y_pred_KRM)) "
   ]
  },
  {
   "cell_type": "markdown",
   "metadata": {},
   "source": [
    "## Gradient Boost Regression"
   ]
  },
  {
   "cell_type": "code",
   "execution_count": 83,
   "metadata": {},
   "outputs": [
    {
     "name": "stdout",
     "output_type": "stream",
     "text": [
      "Mean squared error: 528014218.44\n",
      "Coefficient of determination: 0.92\n",
      "MAPE: 0.09 \n",
      "MAPE function == 8.882565799677128\n"
     ]
    }
   ],
   "source": [
    "gbr = GradientBoostingRegressor(random_state=42, subsample = 0.6, max_features=10, min_samples_split=4,\n",
    "                                n_estimators=3000, learning_rate = 0.01)\n",
    "gradientBoosting_model = gbr.fit(x_train,y_train)\n",
    "y_pred_GBR = gradientBoosting_model.predict(x_test)\n",
    "\n",
    "print('Mean squared error: %.2f'\n",
    "      % mean_squared_error(y_test, y_pred_GBR))\n",
    "\n",
    "\n",
    "print('Coefficient of determination: %.2f'\n",
    "      % r2_score(y_test, y_pred_GBR))\n",
    "\n",
    "print('MAPE: %.2f'\n",
    "      % np.mean(np.abs((y_test - y_pred_GBR)) / y_test),\n",
    "     '\\nMAPE function ==',mean_absolute_percentage_error(y_test,y_pred_GBR))"
   ]
  },
  {
   "cell_type": "code",
   "execution_count": 84,
   "metadata": {},
   "outputs": [
    {
     "data": {
      "image/png": "[encoded data removed]",
      "text/plain": [
       "<Figure size 1080x432 with 1 Axes>"
      ]
     },
     "metadata": {
      "needs_background": "light"
     },
     "output_type": "display_data"
    }
   ],
   "source": [
    "plotModel(y_pred_GBR, title='Actual vs Predicted Sale Price [Gradient Boost]')"
   ]
  },
  {
   "cell_type": "code",
   "execution_count": null,
   "metadata": {},
   "outputs": [],
   "source": []
  },
  {
   "cell_type": "code",
   "execution_count": 85,
   "metadata": {},
   "outputs": [],
   "source": [
    "y_pred_2gx = (y_pred_GBR + xgb_pred)/2 "
   ]
  },
  {
   "cell_type": "code",
   "execution_count": 86,
   "metadata": {},
   "outputs": [
    {
     "name": "stdout",
     "output_type": "stream",
     "text": [
      "MAPE =  8.457734815973883 \n",
      "MSE =  522549832.97293293 \n",
      "r2_score =  0.9231706870178251\n"
     ]
    }
   ],
   "source": [
    "print('MAPE = ', mean_absolute_percentage_error(y_test,y_pred_2gx), \n",
    "      '\\nMSE = ', mean_squared_error(y_test,y_pred_2gx),\n",
    "      '\\nr2_score = ', r2_score(y_test,y_pred_2gx))"
   ]
  },
  {
   "cell_type": "code",
   "execution_count": 87,
   "metadata": {},
   "outputs": [],
   "source": [
    "y_pred_2gr = (y_pred_GBR + rf_y_pred)/2"
   ]
  },
  {
   "cell_type": "code",
   "execution_count": 88,
   "metadata": {},
   "outputs": [
    {
     "name": "stdout",
     "output_type": "stream",
     "text": [
      "MAPE =  8.42820536145466 \n",
      "MSE =  503288247.6735199 \n",
      "r2_score =  0.9260026740784316\n"
     ]
    }
   ],
   "source": [
    "print('MAPE = ', mean_absolute_percentage_error(y_test,y_pred_2gr), \n",
    "      '\\nMSE = ', mean_squared_error(y_test,y_pred_2gr),\n",
    "      '\\nr2_score = ', r2_score(y_test,y_pred_2gr))"
   ]
  },
  {
   "cell_type": "code",
   "execution_count": 89,
   "metadata": {},
   "outputs": [],
   "source": [
    "y_pred_2xr = (xgb_pred + rf_y_pred)/2"
   ]
  },
  {
   "cell_type": "code",
   "execution_count": 90,
   "metadata": {},
   "outputs": [
    {
     "name": "stdout",
     "output_type": "stream",
     "text": [
      "MAPE =  8.65407717286464 \n",
      "MSE =  567215740.9492474 \n",
      "r2_score =  0.9166035601965961\n"
     ]
    }
   ],
   "source": [
    "print('MAPE = ', mean_absolute_percentage_error(y_test,y_pred_2xr), \n",
    "      '\\nMSE = ', mean_squared_error(y_test,y_pred_2xr),\n",
    "      '\\nr2_score = ', r2_score(y_test,y_pred_2xr))"
   ]
  },
  {
   "cell_type": "code",
   "execution_count": 91,
   "metadata": {},
   "outputs": [],
   "source": [
    "y_pred_3 = (y_pred_GBR + xgb_pred + rf_y_pred)/3"
   ]
  },
  {
   "cell_type": "code",
   "execution_count": 92,
   "metadata": {},
   "outputs": [
    {
     "name": "stdout",
     "output_type": "stream",
     "text": [
      "MAPE =  8.39861319269696 \n",
      "MSE =  516670742.169843 \n",
      "r2_score =  0.9240350763618833\n"
     ]
    }
   ],
   "source": [
    "print('MAPE = ', mean_absolute_percentage_error(y_test,y_pred_3), \n",
    "      '\\nMSE = ', mean_squared_error(y_test,y_pred_3),\n",
    "      '\\nr2_score = ', r2_score(y_test,y_pred_3))"
   ]
  },
  {
   "cell_type": "code",
   "execution_count": 93,
   "metadata": {},
   "outputs": [
    {
     "data": {
      "image/png": "[encoded data removed]",
      "text/plain": [
       "<Figure size 1080x432 with 1 Axes>"
      ]
     },
     "metadata": {
      "needs_background": "light"
     },
     "output_type": "display_data"
    }
   ],
   "source": [
    "plotModel(y_pred_3, title='Actual vs Predicted Sale Price [Combination]')"
   ]
  },
  {
   "cell_type": "code",
   "execution_count": 107,
   "metadata": {},
   "outputs": [],
   "source": [
    "# y_pred_4 = (y_pred_GBR + xgb_pred + rf_y_pred + ridge_y_pred)/4\n",
    "y_pred_4 = (0.3*y_pred_GBR + 0.4*xgb_pred + 0.2*rf_y_pred + 0.1*ridge_y_pred)\n"
   ]
  },
  {
   "cell_type": "code",
   "execution_count": 108,
   "metadata": {},
   "outputs": [
    {
     "name": "stdout",
     "output_type": "stream",
     "text": [
      "MAPE =  8.279323882702588 \n",
      "MSE =  511837789.04597217 \n",
      "r2_score =  0.9247456544632474\n"
     ]
    }
   ],
   "source": [
    "print('MAPE = ', mean_absolute_percentage_error(y_test,y_pred_4), \n",
    "      '\\nMSE = ', mean_squared_error(y_test,y_pred_4),\n",
    "      '\\nr2_score = ', r2_score(y_test,y_pred_4))"
   ]
  },
  {
   "cell_type": "code",
   "execution_count": 109,
   "metadata": {},
   "outputs": [],
   "source": [
    "def PyLovers_Model(X):\n",
    "    return(( 0.4 * xgb_r.predict(X) + \n",
    "            0.3 * gradientBoosting_model.predict(X) +\n",
    "            0.2 * rf_regressor.predict(X) +\n",
    "            0.1 * ridge_regressor.predict(X)))"
   ]
  },
  {
   "cell_type": "code",
   "execution_count": 110,
   "metadata": {},
   "outputs": [
    {
     "name": "stdout",
     "output_type": "stream",
     "text": [
      "MAPE =  8.279323882702588 \n",
      "MSE =  511837789.04597217 \n",
      "r2_score =  0.9247456544632474\n"
     ]
    }
   ],
   "source": [
    "y_pred = PyLovers_Model(x_test)\n",
    "\n",
    "print('MAPE = ', mean_absolute_percentage_error(y_test,y_pred), \n",
    "      '\\nMSE = ', mean_squared_error(y_test,y_pred),\n",
    "      '\\nr2_score = ', r2_score(y_test,y_pred))"
   ]
  },
  {
   "cell_type": "code",
   "execution_count": 111,
   "metadata": {},
   "outputs": [
    {
     "data": {
      "image/png": "[encoded data removed]",
      "text/plain": [
       "<Figure size 1080x432 with 1 Axes>"
      ]
     },
     "metadata": {
      "needs_background": "light"
     },
     "output_type": "display_data"
    }
   ],
   "source": [
    "plotModel(y_pred, title='Actual vs Predicted Sale Price [Combination]')"
   ]
  },
  {
   "cell_type": "code",
   "execution_count": null,
   "metadata": {},
   "outputs": [],
   "source": [
    "# test_df.head()\n",
    "X_test = test_df.loc[:,~test_df.columns.isin(['Id'])]"
   ]
  },
  {
   "cell_type": "code",
   "execution_count": null,
   "metadata": {},
   "outputs": [],
   "source": [
    "test_actual_price_url = 'https://raw.githubusercontent.com/mturner49/pylovers-final-project/dev/data/test_actual_price.csv'\n",
    "\n",
    "test_actual_price_df = pd.read_csv(test_actual_price_url, low_memory=False, error_bad_lines=False, index_col='Id')\n",
    "test_actual_price_df.head()\n",
    "\n",
    "Y_test = test_actual_price_df.loc[:,'SalePrice']"
   ]
  },
  {
   "cell_type": "code",
   "execution_count": 113,
   "metadata": {},
   "outputs": [],
   "source": [
    "y_pred = PyLovers_Model(X_test)\n",
    "\n",
    "print('MAPE = ', mean_absolute_percentage_error(Y_test,y_pred), \n",
    "      '\\nMSE = ', mean_squared_error(Y_test,y_pred),\n",
    "      '\\nr2_score = ', r2_score(Y_test,y_pred))"
   ]
  },
  {
   "cell_type": "code",
   "execution_count": 112,
   "metadata": {},
   "outputs": [],
   "source": [
    "plotModel(y_pred, title='Actual vs Predicted Sale Price [Combination]')"
   ]
  },
  {
   "cell_type": "markdown",
   "metadata": {},
   "source": [
    "## Data Exploration:"
   ]
  },
  {
   "cell_type": "markdown",
   "metadata": {},
   "source": [
    "## Data Visualization (CAN BE DELETED):"
   ]
  }
 ],
 "metadata": {
  "kernelspec": {
   "display_name": "Python 3",
   "language": "python",
   "name": "python3"
  },
  "language_info": {
   "codemirror_mode": {
    "name": "ipython",
    "version": 3
   },
   "file_extension": ".py",
   "mimetype": "text/x-python",
   "name": "python",
   "nbconvert_exporter": "python",
   "pygments_lexer": "ipython3",
   "version": "3.7.6"
  }
 },
 "nbformat": 4,
 "nbformat_minor": 4
}
