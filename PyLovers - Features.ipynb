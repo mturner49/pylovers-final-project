{
 "cells": [
  {
   "cell_type": "code",
   "execution_count": 1,
   "metadata": {},
   "outputs": [],
   "source": [
    "import pip\n",
    "# pip.main(['install', '{insert_pckg_here}'])\n",
    "import pandas as pd\n",
    "import numpy as np\n",
    "from sklearn import preprocessing\n",
    "from sklearn.preprocessing import LabelEncoder\n",
    "import matplotlib.pyplot as plt\n",
    "import seaborn as sns"
   ]
  },
  {
   "cell_type": "markdown",
   "metadata": {},
   "source": [
    "## Loading Training/Testing Data:"
   ]
  },
  {
   "cell_type": "code",
   "execution_count": 2,
   "metadata": {},
   "outputs": [
    {
     "data": {
      "text/html": [
       "<div>\n",
       "<style scoped>\n",
       "    .dataframe tbody tr th:only-of-type {\n",
       "        vertical-align: middle;\n",
       "    }\n",
       "\n",
       "    .dataframe tbody tr th {\n",
       "        vertical-align: top;\n",
       "    }\n",
       "\n",
       "    .dataframe thead th {\n",
       "        text-align: right;\n",
       "    }\n",
       "</style>\n",
       "<table border=\"1\" class=\"dataframe\">\n",
       "  <thead>\n",
       "    <tr style=\"text-align: right;\">\n",
       "      <th></th>\n",
       "      <th>MSSubClass</th>\n",
       "      <th>MSZoning</th>\n",
       "      <th>LotFrontage</th>\n",
       "      <th>LotArea</th>\n",
       "      <th>Street</th>\n",
       "      <th>Alley</th>\n",
       "      <th>LotShape</th>\n",
       "      <th>LandContour</th>\n",
       "      <th>Utilities</th>\n",
       "      <th>LotConfig</th>\n",
       "      <th>...</th>\n",
       "      <th>PoolArea</th>\n",
       "      <th>PoolQC</th>\n",
       "      <th>Fence</th>\n",
       "      <th>MiscFeature</th>\n",
       "      <th>MiscVal</th>\n",
       "      <th>MoSold</th>\n",
       "      <th>YrSold</th>\n",
       "      <th>SaleType</th>\n",
       "      <th>SaleCondition</th>\n",
       "      <th>SalePrice</th>\n",
       "    </tr>\n",
       "    <tr>\n",
       "      <th>Id</th>\n",
       "      <th></th>\n",
       "      <th></th>\n",
       "      <th></th>\n",
       "      <th></th>\n",
       "      <th></th>\n",
       "      <th></th>\n",
       "      <th></th>\n",
       "      <th></th>\n",
       "      <th></th>\n",
       "      <th></th>\n",
       "      <th></th>\n",
       "      <th></th>\n",
       "      <th></th>\n",
       "      <th></th>\n",
       "      <th></th>\n",
       "      <th></th>\n",
       "      <th></th>\n",
       "      <th></th>\n",
       "      <th></th>\n",
       "      <th></th>\n",
       "      <th></th>\n",
       "    </tr>\n",
       "  </thead>\n",
       "  <tbody>\n",
       "    <tr>\n",
       "      <th>1</th>\n",
       "      <td>60</td>\n",
       "      <td>RL</td>\n",
       "      <td>65.0</td>\n",
       "      <td>8450</td>\n",
       "      <td>Pave</td>\n",
       "      <td>NaN</td>\n",
       "      <td>Reg</td>\n",
       "      <td>Lvl</td>\n",
       "      <td>AllPub</td>\n",
       "      <td>Inside</td>\n",
       "      <td>...</td>\n",
       "      <td>0</td>\n",
       "      <td>NaN</td>\n",
       "      <td>NaN</td>\n",
       "      <td>NaN</td>\n",
       "      <td>0</td>\n",
       "      <td>2</td>\n",
       "      <td>2008</td>\n",
       "      <td>WD</td>\n",
       "      <td>Normal</td>\n",
       "      <td>208500</td>\n",
       "    </tr>\n",
       "    <tr>\n",
       "      <th>2</th>\n",
       "      <td>20</td>\n",
       "      <td>RL</td>\n",
       "      <td>80.0</td>\n",
       "      <td>9600</td>\n",
       "      <td>Pave</td>\n",
       "      <td>NaN</td>\n",
       "      <td>Reg</td>\n",
       "      <td>Lvl</td>\n",
       "      <td>AllPub</td>\n",
       "      <td>FR2</td>\n",
       "      <td>...</td>\n",
       "      <td>0</td>\n",
       "      <td>NaN</td>\n",
       "      <td>NaN</td>\n",
       "      <td>NaN</td>\n",
       "      <td>0</td>\n",
       "      <td>5</td>\n",
       "      <td>2007</td>\n",
       "      <td>WD</td>\n",
       "      <td>Normal</td>\n",
       "      <td>181500</td>\n",
       "    </tr>\n",
       "    <tr>\n",
       "      <th>3</th>\n",
       "      <td>60</td>\n",
       "      <td>RL</td>\n",
       "      <td>68.0</td>\n",
       "      <td>11250</td>\n",
       "      <td>Pave</td>\n",
       "      <td>NaN</td>\n",
       "      <td>IR1</td>\n",
       "      <td>Lvl</td>\n",
       "      <td>AllPub</td>\n",
       "      <td>Inside</td>\n",
       "      <td>...</td>\n",
       "      <td>0</td>\n",
       "      <td>NaN</td>\n",
       "      <td>NaN</td>\n",
       "      <td>NaN</td>\n",
       "      <td>0</td>\n",
       "      <td>9</td>\n",
       "      <td>2008</td>\n",
       "      <td>WD</td>\n",
       "      <td>Normal</td>\n",
       "      <td>223500</td>\n",
       "    </tr>\n",
       "    <tr>\n",
       "      <th>4</th>\n",
       "      <td>70</td>\n",
       "      <td>RL</td>\n",
       "      <td>60.0</td>\n",
       "      <td>9550</td>\n",
       "      <td>Pave</td>\n",
       "      <td>NaN</td>\n",
       "      <td>IR1</td>\n",
       "      <td>Lvl</td>\n",
       "      <td>AllPub</td>\n",
       "      <td>Corner</td>\n",
       "      <td>...</td>\n",
       "      <td>0</td>\n",
       "      <td>NaN</td>\n",
       "      <td>NaN</td>\n",
       "      <td>NaN</td>\n",
       "      <td>0</td>\n",
       "      <td>2</td>\n",
       "      <td>2006</td>\n",
       "      <td>WD</td>\n",
       "      <td>Abnorml</td>\n",
       "      <td>140000</td>\n",
       "    </tr>\n",
       "    <tr>\n",
       "      <th>5</th>\n",
       "      <td>60</td>\n",
       "      <td>RL</td>\n",
       "      <td>84.0</td>\n",
       "      <td>14260</td>\n",
       "      <td>Pave</td>\n",
       "      <td>NaN</td>\n",
       "      <td>IR1</td>\n",
       "      <td>Lvl</td>\n",
       "      <td>AllPub</td>\n",
       "      <td>FR2</td>\n",
       "      <td>...</td>\n",
       "      <td>0</td>\n",
       "      <td>NaN</td>\n",
       "      <td>NaN</td>\n",
       "      <td>NaN</td>\n",
       "      <td>0</td>\n",
       "      <td>12</td>\n",
       "      <td>2008</td>\n",
       "      <td>WD</td>\n",
       "      <td>Normal</td>\n",
       "      <td>250000</td>\n",
       "    </tr>\n",
       "  </tbody>\n",
       "</table>\n",
       "<p>5 rows × 80 columns</p>\n",
       "</div>"
      ],
      "text/plain": [
       "    MSSubClass MSZoning  LotFrontage  LotArea Street Alley LotShape  \\\n",
       "Id                                                                    \n",
       "1           60       RL         65.0     8450   Pave   NaN      Reg   \n",
       "2           20       RL         80.0     9600   Pave   NaN      Reg   \n",
       "3           60       RL         68.0    11250   Pave   NaN      IR1   \n",
       "4           70       RL         60.0     9550   Pave   NaN      IR1   \n",
       "5           60       RL         84.0    14260   Pave   NaN      IR1   \n",
       "\n",
       "   LandContour Utilities LotConfig  ... PoolArea PoolQC Fence MiscFeature  \\\n",
       "Id                                  ...                                     \n",
       "1          Lvl    AllPub    Inside  ...        0    NaN   NaN         NaN   \n",
       "2          Lvl    AllPub       FR2  ...        0    NaN   NaN         NaN   \n",
       "3          Lvl    AllPub    Inside  ...        0    NaN   NaN         NaN   \n",
       "4          Lvl    AllPub    Corner  ...        0    NaN   NaN         NaN   \n",
       "5          Lvl    AllPub       FR2  ...        0    NaN   NaN         NaN   \n",
       "\n",
       "   MiscVal MoSold  YrSold  SaleType  SaleCondition  SalePrice  \n",
       "Id                                                             \n",
       "1        0      2    2008        WD         Normal     208500  \n",
       "2        0      5    2007        WD         Normal     181500  \n",
       "3        0      9    2008        WD         Normal     223500  \n",
       "4        0      2    2006        WD        Abnorml     140000  \n",
       "5        0     12    2008        WD         Normal     250000  \n",
       "\n",
       "[5 rows x 80 columns]"
      ]
     },
     "execution_count": 2,
     "metadata": {},
     "output_type": "execute_result"
    }
   ],
   "source": [
    "train_url = 'https://raw.githubusercontent.com/mturner49/pylovers-final-project/dev/data/train.csv'\n",
    "test_url = 'https://raw.githubusercontent.com/mturner49/pylovers-final-project/dev/data/test.csv'\n",
    "\n",
    "training_set = pd.read_csv(train_url, low_memory=False, error_bad_lines=False, index_col='Id')\n",
    "testing_set = pd.read_csv(test_url, low_memory=False, error_bad_lines=False, index_col='Id')\n",
    "\n",
    "train_df = pd.DataFrame(training_set)\n",
    "test_df = pd.DataFrame(testing_set)\n",
    "\n",
    "train_df.head()"
   ]
  },
  {
   "cell_type": "code",
   "execution_count": 3,
   "metadata": {
    "scrolled": true
   },
   "outputs": [],
   "source": [
    "# replace null values in df w/ values that had most counts for each column\n",
    "train_df = train_df.apply(lambda x: x.fillna(0) if x.dtype.kind in 'biufc' \\\n",
    "                          else x.fillna(train_df.columns.value_counts().idxmax()))\n",
    "test_df = test_df.apply(lambda x: x.fillna(0) if x.dtype.kind in 'biufc' \\\n",
    "                          else x.fillna(train_df.columns.value_counts().idxmax()))\n",
    "# combining the training and test dfs\n",
    "# dfs = [train_df, test_df]\n",
    "# df = pd.concat(dfs)\n",
    "\n",
    "# df.head()"
   ]
  },
  {
   "cell_type": "markdown",
   "metadata": {},
   "source": [
    "## Data Exploration:"
   ]
  },
  {
   "cell_type": "code",
   "execution_count": 4,
   "metadata": {},
   "outputs": [],
   "source": [
    "#print(train_df.MSZoning)\n",
    "\n",
    "#df = train_df.groupby('MSZoning').size()\n",
    "#print (df)\n",
    "\n",
    "# Converting category labels to numerical values for MSZoning column\n",
    "train_df['MSZoning_Num'] = train_df.MSZoning.map(\n",
    "{'C (all)': 1,\n",
    " 'FV': 2,\n",
    " 'RH': 3,\n",
    " 'RL': 4,\n",
    " 'RM': 5})\n",
    "\n",
    "#print(train_df.MSZoning_Num)"
   ]
  },
  {
   "cell_type": "code",
   "execution_count": 5,
   "metadata": {},
   "outputs": [],
   "source": [
    "#print(train_df.LotConfig)\n",
    "\n",
    "#df = train_df.groupby('LotConfig').size()\n",
    "#print (df)\n",
    "\n",
    "# Converting category labels to numerical values for LotConfig column\n",
    "train_df['LotConfig_Num'] = train_df.LotConfig.map(\n",
    "{'Corner': 1,\n",
    " 'CulDSac': 2,\n",
    " 'FR2': 3,\n",
    " 'FR3': 4,\n",
    " 'Inside': 5})\n",
    "\n",
    "#print(train_df.LotConfig_Num)    "
   ]
  },
  {
   "cell_type": "code",
   "execution_count": 6,
   "metadata": {},
   "outputs": [],
   "source": [
    "#print(train_df.Neighborhood)\n",
    "\n",
    "#df = train_df.groupby('Neighborhood').size()\n",
    "#print (df)\n",
    "\n",
    "# Converting category labels to numerical values for Neighborhood column\n",
    "train_df['Neighborhood_Num'] = train_df.Neighborhood.map(\n",
    "{'Blmngtn': 1,\n",
    " 'Blueste': 2,\n",
    " 'BrDale': 3,\n",
    " 'BrkSide': 4,\n",
    " 'ClearCr': 5,\n",
    " 'CollgCr': 6,\n",
    " 'Crawfor': 7,\n",
    " 'Edwards': 8,\n",
    " 'Gilbert': 9,\n",
    " 'IDOTRR':  10,\n",
    " 'MeadowV': 11,\n",
    " 'Mitchel': 12,\n",
    " 'NAmes': 13,\n",
    " 'NPkVill': 14,\n",
    " 'NWAmes': 15,\n",
    " 'NoRidge': 16,\n",
    " 'NridgHt': 17,\n",
    " 'OldTown': 18,\n",
    " 'SWISU': 19,\n",
    " 'Sawyer': 20,\n",
    " 'SawyerW': 21,\n",
    " 'Somerst': 22,\n",
    " 'StoneBr': 23,\n",
    " 'Timber': 24,\n",
    " 'Veenker': 25})\n",
    "\n",
    "#print(train_df.Neighborhood_Num)"
   ]
  },
  {
   "cell_type": "code",
   "execution_count": 7,
   "metadata": {},
   "outputs": [],
   "source": [
    "#print(train_df.KitchenQual)\n",
    "\n",
    "#df = train_df.groupby('KitchenQual').size()\n",
    "#print (df)\n",
    "\n",
    "# Converting category labels to numerical values for KitchenQual column\n",
    "train_df['KitchenQual_Num'] = train_df.KitchenQual.map(\n",
    "{'Po':1, \n",
    " 'Fa':2, \n",
    " 'TA':3, \n",
    " 'Gd':4, \n",
    " 'Ex':5})\n",
    "\n",
    "#print(train_df.KitchenQual_Num)"
   ]
  },
  {
   "cell_type": "code",
   "execution_count": 8,
   "metadata": {},
   "outputs": [],
   "source": [
    "#print(train_df.SaleCondition)\n",
    "\n",
    "#df = train_df.groupby('SaleCondition').size()\n",
    "#print (df)\n",
    "\n",
    "# Converting category labels to numerical values for SaleCondition column\n",
    "train_df['SaleCondition_Num'] = train_df.SaleCondition.map(\n",
    "{'Abnorml':1, \n",
    " 'AdjLand':2, \n",
    " 'Alloca':3, \n",
    " 'Family':4, \n",
    " 'Normal':5,\n",
    " 'Partial':6})\n",
    "\n",
    "#print(train_df.SaleCondition_Num)"
   ]
  },
  {
   "cell_type": "code",
   "execution_count": 9,
   "metadata": {},
   "outputs": [
    {
     "name": "stdout",
     "output_type": "stream",
     "text": [
      "MSSubClass          -0.084284\n",
      "LotFrontage          0.209624\n",
      "LotArea              0.263843\n",
      "OverallQual          0.790982\n",
      "OverallCond         -0.077856\n",
      "YearBuilt            0.522897\n",
      "YearRemodAdd         0.507101\n",
      "MasVnrArea           0.472614\n",
      "BsmtFinSF1           0.386420\n",
      "BsmtFinSF2          -0.011378\n",
      "BsmtUnfSF            0.214479\n",
      "TotalBsmtSF          0.613581\n",
      "1stFlrSF             0.605852\n",
      "2ndFlrSF             0.319334\n",
      "LowQualFinSF        -0.025606\n",
      "GrLivArea            0.708624\n",
      "BsmtFullBath         0.227122\n",
      "BsmtHalfBath        -0.016844\n",
      "FullBath             0.560664\n",
      "HalfBath             0.284108\n",
      "BedroomAbvGr         0.168213\n",
      "KitchenAbvGr        -0.135907\n",
      "TotRmsAbvGrd         0.533723\n",
      "Fireplaces           0.466929\n",
      "GarageYrBlt          0.261366\n",
      "GarageCars           0.640409\n",
      "GarageArea           0.623431\n",
      "WoodDeckSF           0.324413\n",
      "OpenPorchSF          0.315856\n",
      "EnclosedPorch       -0.128578\n",
      "3SsnPorch            0.044584\n",
      "ScreenPorch          0.111447\n",
      "PoolArea             0.092404\n",
      "MiscVal             -0.021190\n",
      "MoSold               0.046432\n",
      "YrSold              -0.028923\n",
      "SalePrice            1.000000\n",
      "MSZoning_Num        -0.166872\n",
      "LotConfig_Num       -0.067396\n",
      "Neighborhood_Num     0.210851\n",
      "KitchenQual_Num      0.659600\n",
      "SaleCondition_Num    0.213092\n",
      "Name: SalePrice, dtype: float64\n"
     ]
    }
   ],
   "source": [
    "#looking at correlation of numeric features to SalePrice column. \n",
    "#This might suggest which columns have a greater relationship with the SalePrice column \n",
    "corr = train_df.corr()['SalePrice']\n",
    "print(corr)"
   ]
  },
  {
   "cell_type": "markdown",
   "metadata": {},
   "source": [
    "## Data Visualization (CAN BE DELETED):"
   ]
  },
  {
   "cell_type": "code",
   "execution_count": 10,
   "metadata": {},
   "outputs": [
    {
     "data": {
      "image/png": "[encoded data removed]",
      "text/plain": [
       "<Figure size 720x360 with 1 Axes>"
      ]
     },
     "metadata": {
      "needs_background": "light"
     },
     "output_type": "display_data"
    }
   ],
   "source": [
    "#Count the number of houses sold in a year\n",
    "#year_sold_pivot = train_df.pivot_table(index='YrSold', values='SalePrice', aggfunc='count')\n",
    "#print(year_sold_pivot)\n",
    "\n",
    "# Plotting the sum of sales per year\n",
    "sns.set_context(\"paper\", font_scale=2) \n",
    "plt.figure(figsize=(10,5))\n",
    "sns.barplot(x='YrSold', y='SalePrice', data=train_df[['SalePrice', 'YrSold']], estimator=sum)\n",
    "plt.xlabel('Year Sold')\n",
    "plt.ylabel('Number of Sales')\n",
    "plt.show()"
   ]
  },
  {
   "cell_type": "code",
   "execution_count": 11,
   "metadata": {},
   "outputs": [
    {
     "data": {
      "image/png": "[encoded data removed]",
      "text/plain": [
       "<Figure size 720x360 with 1 Axes>"
      ]
     },
     "metadata": {
      "needs_background": "light"
     },
     "output_type": "display_data"
    }
   ],
   "source": [
    "# Plotting the median sale price for each year\n",
    "\n",
    "#Checking the median price\n",
    "#year_sold_pivot = train_df.pivot_table(index='YrSold', values='SalePrice', aggfunc=np.median)\n",
    "#print(year_sold_pivot)\n",
    "\n",
    "sns.set_context(\"paper\", font_scale=2) \n",
    "plt.figure(figsize=(10,5))\n",
    "sns.barplot(x='YrSold', y='SalePrice', data=train_df[['SalePrice', 'YrSold']], estimator=np.median)\n",
    "plt.xlabel('Year Sold')\n",
    "plt.ylabel('Median Sale Price')\n",
    "plt.show()"
   ]
  },
  {
   "cell_type": "code",
   "execution_count": 12,
   "metadata": {},
   "outputs": [
    {
     "data": {
      "image/png": "[encoded data removed]",
      "text/plain": [
       "<Figure size 720x360 with 1 Axes>"
      ]
     },
     "metadata": {
      "needs_background": "light"
     },
     "output_type": "display_data"
    }
   ],
   "source": [
    "#Displaying the median price for each year using box plot.  \n",
    "sns.set_context(\"paper\", font_scale=2) \n",
    "plt.figure(figsize=(10,5))\n",
    "sns.boxplot(x='YrSold', y='SalePrice', data=train_df[['SalePrice', 'YrSold']])\n",
    "plt.xlabel('Year Sold')\n",
    "plt.ylabel('Median Sale Price')\n",
    "plt.show()"
   ]
  },
  {
   "cell_type": "code",
   "execution_count": 13,
   "metadata": {},
   "outputs": [
    {
     "data": {
      "image/png": "[encoded data removed]",
      "text/plain": [
       "<Figure size 864x720 with 1 Axes>"
      ]
     },
     "metadata": {
      "needs_background": "light"
     },
     "output_type": "display_data"
    }
   ],
   "source": [
    "#Displaying the median price based on overall quality of the house using box plot.\n",
    "sns.set_context(\"paper\", font_scale=2) \n",
    "plt.figure(figsize=(12,10))\n",
    "sns.boxplot(x='OverallQual', y='SalePrice', data=train_df[['SalePrice', 'OverallQual']])\n",
    "plt.xlabel('Overall Quality')\n",
    "plt.ylabel('Median Sale Price')\n",
    "plt.show()"
   ]
  },
  {
   "cell_type": "code",
   "execution_count": 14,
   "metadata": {},
   "outputs": [
    {
     "data": {
      "image/png": "[encoded data removed]",
      "text/plain": [
       "<Figure size 720x360 with 1 Axes>"
      ]
     },
     "metadata": {
      "needs_background": "light"
     },
     "output_type": "display_data"
    }
   ],
   "source": [
    "# Plotting the median sale price based on kitchen quality\n",
    "sns.set_context(\"paper\", font_scale=2) \n",
    "plt.figure(figsize=(10,5))\n",
    "sns.barplot(x='KitchenQual', y='SalePrice', data=train_df[['SalePrice', 'KitchenQual']], estimator=np.median)\n",
    "plt.xlabel('Kitchen Quality')\n",
    "plt.ylabel('Median Sale Price')\n",
    "plt.show()"
   ]
  },
  {
   "cell_type": "markdown",
   "metadata": {},
   "source": [
    "## Feature Engineering:"
   ]
  },
  {
   "cell_type": "code",
   "execution_count": 15,
   "metadata": {},
   "outputs": [],
   "source": [
    "# Ratio of Basement Quality ['BsmtQual'] to Overall Quality ['OverallQual']"
   ]
  },
  {
   "cell_type": "code",
   "execution_count": 16,
   "metadata": {},
   "outputs": [],
   "source": [
    "# Ratio of Exterior Quality ['ExterQual'] to Overall Quality ['OverallQual']"
   ]
  },
  {
   "cell_type": "code",
   "execution_count": 17,
   "metadata": {},
   "outputs": [],
   "source": [
    "# Ratio of Kitchen Quality ['KitchenQual'] to Overall Quality ['OverallQual']"
   ]
  },
  {
   "cell_type": "code",
   "execution_count": 18,
   "metadata": {},
   "outputs": [],
   "source": [
    "################## DISREGARD LOGIC BELOW ######################"
   ]
  },
  {
   "cell_type": "code",
   "execution_count": 19,
   "metadata": {},
   "outputs": [],
   "source": [
    "# encode object columns\n",
    "# enc_df = train_df.select_dtypes(include=['object']).apply(LabelEncoder().fit_transform)\n",
    "# enc_df"
   ]
  },
  {
   "cell_type": "code",
   "execution_count": 20,
   "metadata": {},
   "outputs": [],
   "source": [
    "# add encoded columns back into train df\n",
    "# train_df[enc_df.columns] = enc_df\n",
    "# train_df"
   ]
  },
  {
   "cell_type": "code",
   "execution_count": 21,
   "metadata": {},
   "outputs": [],
   "source": [
    "# normalize df except for price column\n",
    "# norm_df = (train_df - train_df.mean()) / (train_df.max() - train_df.min())"
   ]
  }
 ],
 "metadata": {
  "kernelspec": {
   "display_name": "Python 3",
   "language": "python",
   "name": "python3"
  },
  "language_info": {
   "codemirror_mode": {
    "name": "ipython",
    "version": 3
   },
   "file_extension": ".py",
   "mimetype": "text/x-python",
   "name": "python",
   "nbconvert_exporter": "python",
   "pygments_lexer": "ipython3",
   "version": "3.7.7"
  }
 },
 "nbformat": 4,
 "nbformat_minor": 4
}
